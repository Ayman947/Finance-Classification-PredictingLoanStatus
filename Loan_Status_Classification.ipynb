{
  "nbformat": 4,
  "nbformat_minor": 0,
  "metadata": {
    "colab": {
      "name": "Loan-Status-Classification.ipynb",
      "provenance": [],
      "collapsed_sections": [
        "Mox9r66wy8Uw",
        "V-Dq-bp1zJvo",
        "P81gSHFGzUJx",
        "In7whQ9MzWf4",
        "2YEdnEI60fCs",
        "Xq9V--nv1eBs",
        "k5PUjW2N1zFK",
        "ujHC7_k02eXi",
        "la10KIpN3pqC",
        "q1TjqpH54zsy",
        "w1bwGZ1V6BCT",
        "sR_JpprJ8uK8",
        "Jl1B5zs_-D0e",
        "ZdXYoeNRFYgf",
        "safmAvpcHLfo",
        "lq2SoCY_Hu25",
        "D200ja3eLsDI",
        "3mdrfTH6Mg4i",
        "joGsSo0IM3tx",
        "UUueXyZDNa9u",
        "iNTnud6VP0ur",
        "JxjbdAKKPFEp",
        "AKdv7JhRPaJB"
      ]
    },
    "kernelspec": {
      "name": "python3",
      "display_name": "Python 3"
    },
    "language_info": {
      "name": "python"
    }
  },
  "cells": [
    {
      "cell_type": "markdown",
      "metadata": {
        "id": "F1BlpB2PyozE"
      },
      "source": [
        "<h1 align=\"center\"><font size=\"10\">Predicting Loan-Status</font></h1>"
      ]
    },
    {
      "cell_type": "markdown",
      "metadata": {
        "id": "qr4Y8GTLytAn"
      },
      "source": [
        "> In this notebook we try to apply various classification algorithms that may help us predict the loan-status.\n",
        "\n",
        "> Then, we are going to find the best one for this specific dataset by accuracy evaluation methods.\n"
      ]
    },
    {
      "cell_type": "markdown",
      "metadata": {
        "id": "Mox9r66wy8Uw"
      },
      "source": [
        "## Importing The Necessary **Libraries**"
      ]
    },
    {
      "cell_type": "code",
      "metadata": {
        "id": "VYi77f2WyfmR"
      },
      "source": [
        "# Numpy is for numerical calculations and array manipulations\n",
        "import numpy as np\n",
        "\n",
        "# Pandas is for dataFrame Manipulation\n",
        "import pandas as pd\n",
        "\n",
        "# Pandas_Profiling for exploring the data interactively\n",
        "from pandas_profiling import ProfileReport\n",
        "\n",
        "# Essential Data Visualization packages\n",
        "import matplotlib.pyplot as plt\n",
        "%matplotlib inline\n",
        "import seaborn as sns\n",
        "sns.set()\n",
        "\n",
        "# Essential Machine Learning packages\n",
        "import sklearn\n",
        "import scipy\n",
        "import statsmodels.api as sm"
      ],
      "execution_count": null,
      "outputs": []
    },
    {
      "cell_type": "markdown",
      "metadata": {
        "id": "V-Dq-bp1zJvo"
      },
      "source": [
        "## Loading The Data **Raw Data**"
      ]
    },
    {
      "cell_type": "code",
      "metadata": {
        "colab": {
          "base_uri": "https://localhost:8080/"
        },
        "id": "hdwNH6otsU5H",
        "outputId": "6b3ee769-1964-4b44-9fc4-0bcfca04db07"
      },
      "source": [
        "!wget -O loan_train.csv https://cf-courses-data.s3.us.cloud-object-storage.appdomain.cloud/IBMDeveloperSkillsNetwork-ML0101EN-SkillsNetwork/labs/FinalModule_Coursera/data/loan_train.csv"
      ],
      "execution_count": null,
      "outputs": [
        {
          "output_type": "stream",
          "text": [
            "--2021-06-13 01:50:25--  https://cf-courses-data.s3.us.cloud-object-storage.appdomain.cloud/IBMDeveloperSkillsNetwork-ML0101EN-SkillsNetwork/labs/FinalModule_Coursera/data/loan_train.csv\n",
            "Resolving cf-courses-data.s3.us.cloud-object-storage.appdomain.cloud (cf-courses-data.s3.us.cloud-object-storage.appdomain.cloud)... 169.63.118.104\n",
            "Connecting to cf-courses-data.s3.us.cloud-object-storage.appdomain.cloud (cf-courses-data.s3.us.cloud-object-storage.appdomain.cloud)|169.63.118.104|:443... connected.\n",
            "HTTP request sent, awaiting response... 200 OK\n",
            "Length: 23101 (23K) [text/csv]\n",
            "Saving to: ‘loan_train.csv’\n",
            "\n",
            "loan_train.csv      100%[===================>]  22.56K  --.-KB/s    in 0s      \n",
            "\n",
            "2021-06-13 01:50:25 (190 MB/s) - ‘loan_train.csv’ saved [23101/23101]\n",
            "\n"
          ],
          "name": "stdout"
        }
      ]
    },
    {
      "cell_type": "code",
      "metadata": {
        "id": "IHQZY5EFzDeN"
      },
      "source": [
        "# Reading the data into a DataFrame\n",
        "Data = pd.read_csv('loan_train.csv')\n",
        "\n",
        "# Making a copy of the data \n",
        "df    = Data.copy()"
      ],
      "execution_count": null,
      "outputs": []
    },
    {
      "cell_type": "code",
      "metadata": {
        "id": "Uqz6cusV0DYz",
        "colab": {
          "base_uri": "https://localhost:8080/"
        },
        "outputId": "8acdaf0e-e777-414b-eeee-8c67673a7376"
      },
      "source": [
        "# Viewing the top 5 rows  \n",
        "df.head()"
      ],
      "execution_count": null,
      "outputs": [
        {
          "output_type": "execute_result",
          "data": {
            "text/html": [
              "<div>\n",
              "<style scoped>\n",
              "    .dataframe tbody tr th:only-of-type {\n",
              "        vertical-align: middle;\n",
              "    }\n",
              "\n",
              "    .dataframe tbody tr th {\n",
              "        vertical-align: top;\n",
              "    }\n",
              "\n",
              "    .dataframe thead th {\n",
              "        text-align: right;\n",
              "    }\n",
              "</style>\n",
              "<table border=\"1\" class=\"dataframe\">\n",
              "  <thead>\n",
              "    <tr style=\"text-align: right;\">\n",
              "      <th></th>\n",
              "      <th>Unnamed: 0</th>\n",
              "      <th>Unnamed: 0.1</th>\n",
              "      <th>loan_status</th>\n",
              "      <th>Principal</th>\n",
              "      <th>terms</th>\n",
              "      <th>effective_date</th>\n",
              "      <th>due_date</th>\n",
              "      <th>age</th>\n",
              "      <th>education</th>\n",
              "      <th>Gender</th>\n",
              "    </tr>\n",
              "  </thead>\n",
              "  <tbody>\n",
              "    <tr>\n",
              "      <th>0</th>\n",
              "      <td>0</td>\n",
              "      <td>0</td>\n",
              "      <td>PAIDOFF</td>\n",
              "      <td>1000</td>\n",
              "      <td>30</td>\n",
              "      <td>9/8/2016</td>\n",
              "      <td>10/7/2016</td>\n",
              "      <td>45</td>\n",
              "      <td>High School or Below</td>\n",
              "      <td>male</td>\n",
              "    </tr>\n",
              "    <tr>\n",
              "      <th>1</th>\n",
              "      <td>2</td>\n",
              "      <td>2</td>\n",
              "      <td>PAIDOFF</td>\n",
              "      <td>1000</td>\n",
              "      <td>30</td>\n",
              "      <td>9/8/2016</td>\n",
              "      <td>10/7/2016</td>\n",
              "      <td>33</td>\n",
              "      <td>Bechalor</td>\n",
              "      <td>female</td>\n",
              "    </tr>\n",
              "    <tr>\n",
              "      <th>2</th>\n",
              "      <td>3</td>\n",
              "      <td>3</td>\n",
              "      <td>PAIDOFF</td>\n",
              "      <td>1000</td>\n",
              "      <td>15</td>\n",
              "      <td>9/8/2016</td>\n",
              "      <td>9/22/2016</td>\n",
              "      <td>27</td>\n",
              "      <td>college</td>\n",
              "      <td>male</td>\n",
              "    </tr>\n",
              "    <tr>\n",
              "      <th>3</th>\n",
              "      <td>4</td>\n",
              "      <td>4</td>\n",
              "      <td>PAIDOFF</td>\n",
              "      <td>1000</td>\n",
              "      <td>30</td>\n",
              "      <td>9/9/2016</td>\n",
              "      <td>10/8/2016</td>\n",
              "      <td>28</td>\n",
              "      <td>college</td>\n",
              "      <td>female</td>\n",
              "    </tr>\n",
              "    <tr>\n",
              "      <th>4</th>\n",
              "      <td>6</td>\n",
              "      <td>6</td>\n",
              "      <td>PAIDOFF</td>\n",
              "      <td>1000</td>\n",
              "      <td>30</td>\n",
              "      <td>9/9/2016</td>\n",
              "      <td>10/8/2016</td>\n",
              "      <td>29</td>\n",
              "      <td>college</td>\n",
              "      <td>male</td>\n",
              "    </tr>\n",
              "  </tbody>\n",
              "</table>\n",
              "</div>"
            ],
            "text/plain": [
              "   Unnamed: 0  Unnamed: 0.1 loan_status  ...  age             education  Gender\n",
              "0           0             0     PAIDOFF  ...   45  High School or Below    male\n",
              "1           2             2     PAIDOFF  ...   33              Bechalor  female\n",
              "2           3             3     PAIDOFF  ...   27               college    male\n",
              "3           4             4     PAIDOFF  ...   28               college  female\n",
              "4           6             6     PAIDOFF  ...   29               college    male\n",
              "\n",
              "[5 rows x 10 columns]"
            ]
          },
          "metadata": {
            "tags": []
          },
          "execution_count": 197
        }
      ]
    },
    {
      "cell_type": "code",
      "metadata": {
        "id": "rvMTg3pH0DbQ",
        "colab": {
          "base_uri": "https://localhost:8080/"
        },
        "outputId": "f7afc550-f6ee-4f57-cbfb-795d47a07500"
      },
      "source": [
        "# Viewing the shape of the dataframe  \n",
        "df.shape"
      ],
      "execution_count": null,
      "outputs": [
        {
          "output_type": "execute_result",
          "data": {
            "text/plain": [
              "(346, 10)"
            ]
          },
          "metadata": {
            "tags": []
          },
          "execution_count": 168
        }
      ]
    },
    {
      "cell_type": "markdown",
      "metadata": {
        "id": "P81gSHFGzUJx"
      },
      "source": [
        "## Data **Cleansning** & **Preprocessing**"
      ]
    },
    {
      "cell_type": "markdown",
      "metadata": {
        "id": "In7whQ9MzWf4"
      },
      "source": [
        "### The **structure** of the dataset."
      ]
    },
    {
      "cell_type": "code",
      "metadata": {
        "id": "If7ttOnJzV4I"
      },
      "source": [
        "# Viewing information about the dataframe\n",
        "df.info()"
      ],
      "execution_count": null,
      "outputs": []
    },
    {
      "cell_type": "code",
      "metadata": {
        "id": "ahS7C3Zrzi9K"
      },
      "source": [
        "# Brief summary statistics of both numerical and categorical columns \n",
        "df.describe(include='all')"
      ],
      "execution_count": null,
      "outputs": []
    },
    {
      "cell_type": "markdown",
      "metadata": {
        "id": "2YEdnEI60fCs"
      },
      "source": [
        "### **About** dataset"
      ]
    },
    {
      "cell_type": "markdown",
      "metadata": {
        "id": "rmT9Nscg0l0C"
      },
      "source": [
        "- This dataset is about past loans. The data set includes details of 346 customers whose loans are already paid off or defaulted. It includes following fields:\n",
        "\n",
        "| Field          | Description                                                                           |\n",
        "|----------------|---------------------------------------------------------------------------------------|\n",
        "| Loan_status    | Whether a loan is paid off or in collection                                           |\n",
        "| Principal      | Basic principal loan amount                                                    |\n",
        "| Terms          | Origination terms which can be weekly (7 days), biweekly, and monthly payoff schedule |\n",
        "| Effective_date | When the loan got originated and took effects                                         |\n",
        "| Due_date       | Since it’s one-time payoff schedule, each loan has one single due date                |\n",
        "| Age            | Age of applicant                                                                      |\n",
        "| Education      | Education of applicant                                                                |\n",
        "| Gender         | The gender of applicant   "
      ]
    },
    {
      "cell_type": "markdown",
      "metadata": {
        "id": "Xq9V--nv1eBs"
      },
      "source": [
        "### Unifying columns **naming convention**"
      ]
    },
    {
      "cell_type": "code",
      "metadata": {
        "id": "DTqClxIB0kGo",
        "colab": {
          "base_uri": "https://localhost:8080/"
        },
        "outputId": "ca8e0057-351a-46b8-a6b3-71715f48e628"
      },
      "source": [
        "# Renaming the columns to be in lowercase separated by '_' instead of spaces\n",
        "df.rename( columns= lambda x : x.strip().lower().replace(' ','_'), inplace = True);\n",
        "\n",
        "# Viewing the top 5 rows\n",
        "df.head()"
      ],
      "execution_count": null,
      "outputs": [
        {
          "output_type": "execute_result",
          "data": {
            "text/html": [
              "<div>\n",
              "<style scoped>\n",
              "    .dataframe tbody tr th:only-of-type {\n",
              "        vertical-align: middle;\n",
              "    }\n",
              "\n",
              "    .dataframe tbody tr th {\n",
              "        vertical-align: top;\n",
              "    }\n",
              "\n",
              "    .dataframe thead th {\n",
              "        text-align: right;\n",
              "    }\n",
              "</style>\n",
              "<table border=\"1\" class=\"dataframe\">\n",
              "  <thead>\n",
              "    <tr style=\"text-align: right;\">\n",
              "      <th></th>\n",
              "      <th>unnamed:_0</th>\n",
              "      <th>unnamed:_0.1</th>\n",
              "      <th>loan_status</th>\n",
              "      <th>principal</th>\n",
              "      <th>terms</th>\n",
              "      <th>effective_date</th>\n",
              "      <th>due_date</th>\n",
              "      <th>age</th>\n",
              "      <th>education</th>\n",
              "      <th>gender</th>\n",
              "    </tr>\n",
              "  </thead>\n",
              "  <tbody>\n",
              "    <tr>\n",
              "      <th>0</th>\n",
              "      <td>0</td>\n",
              "      <td>0</td>\n",
              "      <td>PAIDOFF</td>\n",
              "      <td>1000</td>\n",
              "      <td>30</td>\n",
              "      <td>9/8/2016</td>\n",
              "      <td>10/7/2016</td>\n",
              "      <td>45</td>\n",
              "      <td>High School or Below</td>\n",
              "      <td>male</td>\n",
              "    </tr>\n",
              "    <tr>\n",
              "      <th>1</th>\n",
              "      <td>2</td>\n",
              "      <td>2</td>\n",
              "      <td>PAIDOFF</td>\n",
              "      <td>1000</td>\n",
              "      <td>30</td>\n",
              "      <td>9/8/2016</td>\n",
              "      <td>10/7/2016</td>\n",
              "      <td>33</td>\n",
              "      <td>Bechalor</td>\n",
              "      <td>female</td>\n",
              "    </tr>\n",
              "    <tr>\n",
              "      <th>2</th>\n",
              "      <td>3</td>\n",
              "      <td>3</td>\n",
              "      <td>PAIDOFF</td>\n",
              "      <td>1000</td>\n",
              "      <td>15</td>\n",
              "      <td>9/8/2016</td>\n",
              "      <td>9/22/2016</td>\n",
              "      <td>27</td>\n",
              "      <td>college</td>\n",
              "      <td>male</td>\n",
              "    </tr>\n",
              "    <tr>\n",
              "      <th>3</th>\n",
              "      <td>4</td>\n",
              "      <td>4</td>\n",
              "      <td>PAIDOFF</td>\n",
              "      <td>1000</td>\n",
              "      <td>30</td>\n",
              "      <td>9/9/2016</td>\n",
              "      <td>10/8/2016</td>\n",
              "      <td>28</td>\n",
              "      <td>college</td>\n",
              "      <td>female</td>\n",
              "    </tr>\n",
              "    <tr>\n",
              "      <th>4</th>\n",
              "      <td>6</td>\n",
              "      <td>6</td>\n",
              "      <td>PAIDOFF</td>\n",
              "      <td>1000</td>\n",
              "      <td>30</td>\n",
              "      <td>9/9/2016</td>\n",
              "      <td>10/8/2016</td>\n",
              "      <td>29</td>\n",
              "      <td>college</td>\n",
              "      <td>male</td>\n",
              "    </tr>\n",
              "  </tbody>\n",
              "</table>\n",
              "</div>"
            ],
            "text/plain": [
              "   unnamed:_0  unnamed:_0.1 loan_status  ...  age             education  gender\n",
              "0           0             0     PAIDOFF  ...   45  High School or Below    male\n",
              "1           2             2     PAIDOFF  ...   33              Bechalor  female\n",
              "2           3             3     PAIDOFF  ...   27               college    male\n",
              "3           4             4     PAIDOFF  ...   28               college  female\n",
              "4           6             6     PAIDOFF  ...   29               college    male\n",
              "\n",
              "[5 rows x 10 columns]"
            ]
          },
          "metadata": {
            "tags": []
          },
          "execution_count": 198
        }
      ]
    },
    {
      "cell_type": "markdown",
      "metadata": {
        "id": "k5PUjW2N1zFK"
      },
      "source": [
        "### **Dropping** unneeded columns."
      ]
    },
    {
      "cell_type": "code",
      "metadata": {
        "colab": {
          "base_uri": "https://localhost:8080/"
        },
        "id": "dD7mpMOMuS2q",
        "outputId": "aacc51c1-96ea-4a1f-9b19-635f11a6e075"
      },
      "source": [
        "df.columns"
      ],
      "execution_count": null,
      "outputs": [
        {
          "output_type": "execute_result",
          "data": {
            "text/plain": [
              "Index(['unnamed:_0', 'unnamed:_0.1', 'loan_status', 'principal', 'terms',\n",
              "       'effective_date', 'due_date', 'age', 'education', 'gender'],\n",
              "      dtype='object')"
            ]
          },
          "metadata": {
            "tags": []
          },
          "execution_count": 199
        }
      ]
    },
    {
      "cell_type": "code",
      "metadata": {
        "id": "8jEa0Vyv1zzR"
      },
      "source": [
        "# creating a list holding the columns to be dropped\n",
        "cols = ['unnamed:_0', 'unnamed:_0.1', 'due_date']"
      ],
      "execution_count": null,
      "outputs": []
    },
    {
      "cell_type": "code",
      "metadata": {
        "id": "v3V5imJb2Q5b"
      },
      "source": [
        "# Dropping the columns\n",
        "df.drop( cols, axis=1, inplace= True )"
      ],
      "execution_count": null,
      "outputs": []
    },
    {
      "cell_type": "code",
      "metadata": {
        "id": "6mc51RmD2SsJ",
        "colab": {
          "base_uri": "https://localhost:8080/"
        },
        "outputId": "0b9b410d-bce9-48a2-e6f4-b7dd397ba72d"
      },
      "source": [
        "# Viewing the top 5 rows of the new data after dropping the columns\n",
        "df.head(5)"
      ],
      "execution_count": null,
      "outputs": [
        {
          "output_type": "execute_result",
          "data": {
            "text/html": [
              "<div>\n",
              "<style scoped>\n",
              "    .dataframe tbody tr th:only-of-type {\n",
              "        vertical-align: middle;\n",
              "    }\n",
              "\n",
              "    .dataframe tbody tr th {\n",
              "        vertical-align: top;\n",
              "    }\n",
              "\n",
              "    .dataframe thead th {\n",
              "        text-align: right;\n",
              "    }\n",
              "</style>\n",
              "<table border=\"1\" class=\"dataframe\">\n",
              "  <thead>\n",
              "    <tr style=\"text-align: right;\">\n",
              "      <th></th>\n",
              "      <th>loan_status</th>\n",
              "      <th>principal</th>\n",
              "      <th>terms</th>\n",
              "      <th>effective_date</th>\n",
              "      <th>age</th>\n",
              "      <th>education</th>\n",
              "      <th>gender</th>\n",
              "    </tr>\n",
              "  </thead>\n",
              "  <tbody>\n",
              "    <tr>\n",
              "      <th>0</th>\n",
              "      <td>PAIDOFF</td>\n",
              "      <td>1000</td>\n",
              "      <td>30</td>\n",
              "      <td>9/8/2016</td>\n",
              "      <td>45</td>\n",
              "      <td>High School or Below</td>\n",
              "      <td>male</td>\n",
              "    </tr>\n",
              "    <tr>\n",
              "      <th>1</th>\n",
              "      <td>PAIDOFF</td>\n",
              "      <td>1000</td>\n",
              "      <td>30</td>\n",
              "      <td>9/8/2016</td>\n",
              "      <td>33</td>\n",
              "      <td>Bechalor</td>\n",
              "      <td>female</td>\n",
              "    </tr>\n",
              "    <tr>\n",
              "      <th>2</th>\n",
              "      <td>PAIDOFF</td>\n",
              "      <td>1000</td>\n",
              "      <td>15</td>\n",
              "      <td>9/8/2016</td>\n",
              "      <td>27</td>\n",
              "      <td>college</td>\n",
              "      <td>male</td>\n",
              "    </tr>\n",
              "    <tr>\n",
              "      <th>3</th>\n",
              "      <td>PAIDOFF</td>\n",
              "      <td>1000</td>\n",
              "      <td>30</td>\n",
              "      <td>9/9/2016</td>\n",
              "      <td>28</td>\n",
              "      <td>college</td>\n",
              "      <td>female</td>\n",
              "    </tr>\n",
              "    <tr>\n",
              "      <th>4</th>\n",
              "      <td>PAIDOFF</td>\n",
              "      <td>1000</td>\n",
              "      <td>30</td>\n",
              "      <td>9/9/2016</td>\n",
              "      <td>29</td>\n",
              "      <td>college</td>\n",
              "      <td>male</td>\n",
              "    </tr>\n",
              "  </tbody>\n",
              "</table>\n",
              "</div>"
            ],
            "text/plain": [
              "  loan_status  principal  terms  ... age             education  gender\n",
              "0     PAIDOFF       1000     30  ...  45  High School or Below    male\n",
              "1     PAIDOFF       1000     30  ...  33              Bechalor  female\n",
              "2     PAIDOFF       1000     15  ...  27               college    male\n",
              "3     PAIDOFF       1000     30  ...  28               college  female\n",
              "4     PAIDOFF       1000     30  ...  29               college    male\n",
              "\n",
              "[5 rows x 7 columns]"
            ]
          },
          "metadata": {
            "tags": []
          },
          "execution_count": 202
        }
      ]
    },
    {
      "cell_type": "markdown",
      "metadata": {
        "id": "ujHC7_k02eXi"
      },
      "source": [
        "### Modifying Columns dtypes for the sake of **relevance**."
      ]
    },
    {
      "cell_type": "code",
      "metadata": {
        "id": "OX5oG-ff2hjl",
        "colab": {
          "base_uri": "https://localhost:8080/"
        },
        "outputId": "f490f524-58c5-411a-ad17-07e02dfdde72"
      },
      "source": [
        "# Getting columns & its data types\n",
        "df.dtypes"
      ],
      "execution_count": null,
      "outputs": [
        {
          "output_type": "execute_result",
          "data": {
            "text/plain": [
              "loan_status       object\n",
              "principal          int64\n",
              "terms              int64\n",
              "effective_date    object\n",
              "age                int64\n",
              "education         object\n",
              "gender            object\n",
              "dtype: object"
            ]
          },
          "metadata": {
            "tags": []
          },
          "execution_count": 203
        }
      ]
    },
    {
      "cell_type": "markdown",
      "metadata": {
        "id": "W7uuVnJD27Bz"
      },
      "source": [
        "> Converting the string date into **Datetime**"
      ]
    },
    {
      "cell_type": "code",
      "metadata": {
        "id": "-0OdPeOS2770"
      },
      "source": [
        "# Converting a string column into datetime \n",
        "df['effective_date'] = pd.to_datetime( df['effective_date'] )"
      ],
      "execution_count": null,
      "outputs": []
    },
    {
      "cell_type": "code",
      "metadata": {
        "id": "_KaKlE-C3S2T"
      },
      "source": [
        "# Extracting the day of the week from the date column\n",
        "df['day_of_week'] = df['effective_date'].dt.dayofweek"
      ],
      "execution_count": null,
      "outputs": []
    },
    {
      "cell_type": "code",
      "metadata": {
        "id": "yukM1gS03S66"
      },
      "source": [
        "# Creating a column to tell either we're in a weekend or not\n",
        "df['weekend'] = df['day_of_week'].apply(lambda x: 1 if (x>3)  else 0)"
      ],
      "execution_count": null,
      "outputs": []
    },
    {
      "cell_type": "code",
      "metadata": {
        "colab": {
          "base_uri": "https://localhost:8080/"
        },
        "id": "C9YkISjUvBB6",
        "outputId": "849e9862-c0e6-4863-e909-8f6fa6b54fc8"
      },
      "source": [
        "# Viewing the top 5 rows of the new data after dropping the columns\n",
        "df.head(5)"
      ],
      "execution_count": null,
      "outputs": [
        {
          "output_type": "execute_result",
          "data": {
            "text/html": [
              "<div>\n",
              "<style scoped>\n",
              "    .dataframe tbody tr th:only-of-type {\n",
              "        vertical-align: middle;\n",
              "    }\n",
              "\n",
              "    .dataframe tbody tr th {\n",
              "        vertical-align: top;\n",
              "    }\n",
              "\n",
              "    .dataframe thead th {\n",
              "        text-align: right;\n",
              "    }\n",
              "</style>\n",
              "<table border=\"1\" class=\"dataframe\">\n",
              "  <thead>\n",
              "    <tr style=\"text-align: right;\">\n",
              "      <th></th>\n",
              "      <th>loan_status</th>\n",
              "      <th>principal</th>\n",
              "      <th>terms</th>\n",
              "      <th>effective_date</th>\n",
              "      <th>age</th>\n",
              "      <th>education</th>\n",
              "      <th>gender</th>\n",
              "      <th>day_of_week</th>\n",
              "      <th>weekend</th>\n",
              "    </tr>\n",
              "  </thead>\n",
              "  <tbody>\n",
              "    <tr>\n",
              "      <th>0</th>\n",
              "      <td>PAIDOFF</td>\n",
              "      <td>1000</td>\n",
              "      <td>30</td>\n",
              "      <td>2016-09-08</td>\n",
              "      <td>45</td>\n",
              "      <td>High School or Below</td>\n",
              "      <td>male</td>\n",
              "      <td>3</td>\n",
              "      <td>0</td>\n",
              "    </tr>\n",
              "    <tr>\n",
              "      <th>1</th>\n",
              "      <td>PAIDOFF</td>\n",
              "      <td>1000</td>\n",
              "      <td>30</td>\n",
              "      <td>2016-09-08</td>\n",
              "      <td>33</td>\n",
              "      <td>Bechalor</td>\n",
              "      <td>female</td>\n",
              "      <td>3</td>\n",
              "      <td>0</td>\n",
              "    </tr>\n",
              "    <tr>\n",
              "      <th>2</th>\n",
              "      <td>PAIDOFF</td>\n",
              "      <td>1000</td>\n",
              "      <td>15</td>\n",
              "      <td>2016-09-08</td>\n",
              "      <td>27</td>\n",
              "      <td>college</td>\n",
              "      <td>male</td>\n",
              "      <td>3</td>\n",
              "      <td>0</td>\n",
              "    </tr>\n",
              "    <tr>\n",
              "      <th>3</th>\n",
              "      <td>PAIDOFF</td>\n",
              "      <td>1000</td>\n",
              "      <td>30</td>\n",
              "      <td>2016-09-09</td>\n",
              "      <td>28</td>\n",
              "      <td>college</td>\n",
              "      <td>female</td>\n",
              "      <td>4</td>\n",
              "      <td>1</td>\n",
              "    </tr>\n",
              "    <tr>\n",
              "      <th>4</th>\n",
              "      <td>PAIDOFF</td>\n",
              "      <td>1000</td>\n",
              "      <td>30</td>\n",
              "      <td>2016-09-09</td>\n",
              "      <td>29</td>\n",
              "      <td>college</td>\n",
              "      <td>male</td>\n",
              "      <td>4</td>\n",
              "      <td>1</td>\n",
              "    </tr>\n",
              "  </tbody>\n",
              "</table>\n",
              "</div>"
            ],
            "text/plain": [
              "  loan_status  principal  terms  ...  gender  day_of_week weekend\n",
              "0     PAIDOFF       1000     30  ...    male            3       0\n",
              "1     PAIDOFF       1000     30  ...  female            3       0\n",
              "2     PAIDOFF       1000     15  ...    male            3       0\n",
              "3     PAIDOFF       1000     30  ...  female            4       1\n",
              "4     PAIDOFF       1000     30  ...    male            4       1\n",
              "\n",
              "[5 rows x 9 columns]"
            ]
          },
          "metadata": {
            "tags": []
          },
          "execution_count": 207
        }
      ]
    },
    {
      "cell_type": "code",
      "metadata": {
        "colab": {
          "base_uri": "https://localhost:8080/"
        },
        "id": "jB_AtSqdvL1A",
        "outputId": "97b98475-cf2f-4cb5-e5af-b74b096f270b"
      },
      "source": [
        "# Dropping the columns\n",
        "df.drop( ['day_of_week', 'effective_date'], axis=1, inplace= True )\n",
        "\n",
        "# Viewing the top 5 rows of the new data after dropping the columns\n",
        "df.head(5)"
      ],
      "execution_count": null,
      "outputs": [
        {
          "output_type": "execute_result",
          "data": {
            "text/html": [
              "<div>\n",
              "<style scoped>\n",
              "    .dataframe tbody tr th:only-of-type {\n",
              "        vertical-align: middle;\n",
              "    }\n",
              "\n",
              "    .dataframe tbody tr th {\n",
              "        vertical-align: top;\n",
              "    }\n",
              "\n",
              "    .dataframe thead th {\n",
              "        text-align: right;\n",
              "    }\n",
              "</style>\n",
              "<table border=\"1\" class=\"dataframe\">\n",
              "  <thead>\n",
              "    <tr style=\"text-align: right;\">\n",
              "      <th></th>\n",
              "      <th>loan_status</th>\n",
              "      <th>principal</th>\n",
              "      <th>terms</th>\n",
              "      <th>age</th>\n",
              "      <th>education</th>\n",
              "      <th>gender</th>\n",
              "      <th>weekend</th>\n",
              "    </tr>\n",
              "  </thead>\n",
              "  <tbody>\n",
              "    <tr>\n",
              "      <th>0</th>\n",
              "      <td>PAIDOFF</td>\n",
              "      <td>1000</td>\n",
              "      <td>30</td>\n",
              "      <td>45</td>\n",
              "      <td>High School or Below</td>\n",
              "      <td>male</td>\n",
              "      <td>0</td>\n",
              "    </tr>\n",
              "    <tr>\n",
              "      <th>1</th>\n",
              "      <td>PAIDOFF</td>\n",
              "      <td>1000</td>\n",
              "      <td>30</td>\n",
              "      <td>33</td>\n",
              "      <td>Bechalor</td>\n",
              "      <td>female</td>\n",
              "      <td>0</td>\n",
              "    </tr>\n",
              "    <tr>\n",
              "      <th>2</th>\n",
              "      <td>PAIDOFF</td>\n",
              "      <td>1000</td>\n",
              "      <td>15</td>\n",
              "      <td>27</td>\n",
              "      <td>college</td>\n",
              "      <td>male</td>\n",
              "      <td>0</td>\n",
              "    </tr>\n",
              "    <tr>\n",
              "      <th>3</th>\n",
              "      <td>PAIDOFF</td>\n",
              "      <td>1000</td>\n",
              "      <td>30</td>\n",
              "      <td>28</td>\n",
              "      <td>college</td>\n",
              "      <td>female</td>\n",
              "      <td>1</td>\n",
              "    </tr>\n",
              "    <tr>\n",
              "      <th>4</th>\n",
              "      <td>PAIDOFF</td>\n",
              "      <td>1000</td>\n",
              "      <td>30</td>\n",
              "      <td>29</td>\n",
              "      <td>college</td>\n",
              "      <td>male</td>\n",
              "      <td>1</td>\n",
              "    </tr>\n",
              "  </tbody>\n",
              "</table>\n",
              "</div>"
            ],
            "text/plain": [
              "  loan_status  principal  terms  age             education  gender  weekend\n",
              "0     PAIDOFF       1000     30   45  High School or Below    male        0\n",
              "1     PAIDOFF       1000     30   33              Bechalor  female        0\n",
              "2     PAIDOFF       1000     15   27               college    male        0\n",
              "3     PAIDOFF       1000     30   28               college  female        1\n",
              "4     PAIDOFF       1000     30   29               college    male        1"
            ]
          },
          "metadata": {
            "tags": []
          },
          "execution_count": 208
        }
      ]
    },
    {
      "cell_type": "markdown",
      "metadata": {
        "id": "la10KIpN3pqC"
      },
      "source": [
        "### Checking data **accuracy,consistency & validity**."
      ]
    },
    {
      "cell_type": "code",
      "metadata": {
        "id": "eht7o11R3qwJ",
        "colab": {
          "base_uri": "https://localhost:8080/"
        },
        "outputId": "b02fbd32-2401-40fa-d146-50faf3dcaf99"
      },
      "source": [
        "# Viewing the distinct values and their corresponding count for categorical columns\n",
        "from pandas.api.types import is_numeric_dtype\n",
        "for col in df.columns:\n",
        "    if (is_numeric_dtype(df[col]) == False):\n",
        "      print(f'({col}):\\n{df[col].value_counts()}\\n\\n')"
      ],
      "execution_count": null,
      "outputs": [
        {
          "output_type": "stream",
          "text": [
            "(loan_status):\n",
            "PAIDOFF       260\n",
            "COLLECTION     86\n",
            "Name: loan_status, dtype: int64\n",
            "\n",
            "\n",
            "(education):\n",
            "High School or Below    151\n",
            "college                 149\n",
            "Bechalor                 44\n",
            "Master or Above           2\n",
            "Name: education, dtype: int64\n",
            "\n",
            "\n",
            "(gender):\n",
            "male      294\n",
            "female     52\n",
            "Name: gender, dtype: int64\n",
            "\n",
            "\n"
          ],
          "name": "stdout"
        }
      ]
    },
    {
      "cell_type": "markdown",
      "metadata": {
        "id": "64MDBRMovukR"
      },
      "source": [
        "> It seems that all the classes within the categorical variables are **unique** and **consistent**."
      ]
    },
    {
      "cell_type": "markdown",
      "metadata": {
        "id": "q1TjqpH54zsy"
      },
      "source": [
        "### Checking for nulls for **completeness**.\n"
      ]
    },
    {
      "cell_type": "code",
      "metadata": {
        "id": "zMtB7VXP5fy2",
        "colab": {
          "base_uri": "https://localhost:8080/"
        },
        "outputId": "f51d1d51-614e-4306-99a0-ed4784fba089"
      },
      "source": [
        "# Detecting null values in our dataset:\n",
        "df.isnull().sum()"
      ],
      "execution_count": null,
      "outputs": [
        {
          "output_type": "execute_result",
          "data": {
            "text/plain": [
              "loan_status    0\n",
              "principal      0\n",
              "terms          0\n",
              "age            0\n",
              "education      0\n",
              "gender         0\n",
              "weekend        0\n",
              "dtype: int64"
            ]
          },
          "metadata": {
            "tags": []
          },
          "execution_count": 210
        }
      ]
    },
    {
      "cell_type": "markdown",
      "metadata": {
        "id": "N7aMol3jv_VH"
      },
      "source": [
        "> We're all good ^_^. There are no nulls."
      ]
    },
    {
      "cell_type": "markdown",
      "metadata": {
        "id": "w1bwGZ1V6BCT"
      },
      "source": [
        "### Checking for the **outliers**"
      ]
    },
    {
      "cell_type": "code",
      "metadata": {
        "id": "KOhkFf0h6Bjd",
        "colab": {
          "base_uri": "https://localhost:8080/"
        },
        "outputId": "0506a438-54bc-4c0f-f13c-c20dfa9c63d1"
      },
      "source": [
        "# Getting the numerical columns\n",
        "from pandas.api.types import is_numeric_dtype\n",
        "for col in df.columns:\n",
        "    if is_numeric_dtype(df[col]):\n",
        "        print(col);"
      ],
      "execution_count": null,
      "outputs": [
        {
          "output_type": "stream",
          "text": [
            "principal\n",
            "terms\n",
            "age\n",
            "weekend\n"
          ],
          "name": "stdout"
        }
      ]
    },
    {
      "cell_type": "code",
      "metadata": {
        "id": "uN13mcYs6GxM",
        "colab": {
          "base_uri": "https://localhost:8080/"
        },
        "outputId": "ebeab9e5-28c7-404a-c5e9-ba11bc630626"
      },
      "source": [
        "# Checking for the distribution\n",
        "sns.distplot( df['principal']);"
      ],
      "execution_count": null,
      "outputs": [
        {
          "output_type": "stream",
          "text": [
            "/usr/local/lib/python3.7/dist-packages/seaborn/distributions.py:2557: FutureWarning: `distplot` is a deprecated function and will be removed in a future version. Please adapt your code to use either `displot` (a figure-level function with similar flexibility) or `histplot` (an axes-level function for histograms).\n",
            "  warnings.warn(msg, FutureWarning)\n"
          ],
          "name": "stderr"
        },
        {
          "output_type": "display_data",
          "data": {
            "image/png": "[encoded data removed]",
            "text/plain": [
              "<Figure size 800x550 with 1 Axes>"
            ]
          },
          "metadata": {
            "tags": []
          }
        }
      ]
    },
    {
      "cell_type": "code",
      "metadata": {
        "colab": {
          "base_uri": "https://localhost:8080/"
        },
        "id": "4D-I-gftwbFh",
        "outputId": "f3336d03-56ef-4e4b-e9f6-42ac6d5a1116"
      },
      "source": [
        "sns.distplot( df['terms']);"
      ],
      "execution_count": null,
      "outputs": [
        {
          "output_type": "stream",
          "text": [
            "/usr/local/lib/python3.7/dist-packages/seaborn/distributions.py:2557: FutureWarning: `distplot` is a deprecated function and will be removed in a future version. Please adapt your code to use either `displot` (a figure-level function with similar flexibility) or `histplot` (an axes-level function for histograms).\n",
            "  warnings.warn(msg, FutureWarning)\n"
          ],
          "name": "stderr"
        },
        {
          "output_type": "display_data",
          "data": {
            "image/png": "[encoded data removed]",
            "text/plain": [
              "<Figure size 800x550 with 1 Axes>"
            ]
          },
          "metadata": {
            "tags": []
          }
        }
      ]
    },
    {
      "cell_type": "code",
      "metadata": {
        "colab": {
          "base_uri": "https://localhost:8080/"
        },
        "id": "JpRZ0fg9wbYW",
        "outputId": "7652f1e1-6a03-410e-a1ae-3822bbd81321"
      },
      "source": [
        "sns.distplot( df['age']);"
      ],
      "execution_count": null,
      "outputs": [
        {
          "output_type": "stream",
          "text": [
            "/usr/local/lib/python3.7/dist-packages/seaborn/distributions.py:2557: FutureWarning: `distplot` is a deprecated function and will be removed in a future version. Please adapt your code to use either `displot` (a figure-level function with similar flexibility) or `histplot` (an axes-level function for histograms).\n",
            "  warnings.warn(msg, FutureWarning)\n"
          ],
          "name": "stderr"
        },
        {
          "output_type": "display_data",
          "data": {
            "image/png": "[encoded data removed]",
            "text/plain": [
              "<Figure size 800x550 with 1 Axes>"
            ]
          },
          "metadata": {
            "tags": []
          }
        }
      ]
    },
    {
      "cell_type": "code",
      "metadata": {
        "colab": {
          "base_uri": "https://localhost:8080/"
        },
        "id": "7JGXczXywbdH",
        "outputId": "312ad071-175e-476d-d969-402071bad1f1"
      },
      "source": [
        "sns.distplot( df['weekend']);"
      ],
      "execution_count": null,
      "outputs": [
        {
          "output_type": "stream",
          "text": [
            "/usr/local/lib/python3.7/dist-packages/seaborn/distributions.py:2557: FutureWarning: `distplot` is a deprecated function and will be removed in a future version. Please adapt your code to use either `displot` (a figure-level function with similar flexibility) or `histplot` (an axes-level function for histograms).\n",
            "  warnings.warn(msg, FutureWarning)\n"
          ],
          "name": "stderr"
        },
        {
          "output_type": "display_data",
          "data": {
            "image/png": "[encoded data removed]",
            "text/plain": [
              "<Figure size 800x550 with 1 Axes>"
            ]
          },
          "metadata": {
            "tags": []
          }
        }
      ]
    },
    {
      "cell_type": "markdown",
      "metadata": {
        "id": "sR_JpprJ8uK8"
      },
      "source": [
        "### **Sorting** The Data"
      ]
    },
    {
      "cell_type": "code",
      "metadata": {
        "id": "UlvUvWJD826W",
        "colab": {
          "base_uri": "https://localhost:8080/"
        },
        "outputId": "5982112e-2cc2-473d-8791-7c36698f3c5d"
      },
      "source": [
        "# View the dataframe's columns\n",
        "df.columns"
      ],
      "execution_count": null,
      "outputs": [
        {
          "output_type": "execute_result",
          "data": {
            "text/plain": [
              "Index(['loan_status', 'principal', 'terms', 'age', 'education', 'gender',\n",
              "       'weekend'],\n",
              "      dtype='object')"
            ]
          },
          "metadata": {
            "tags": []
          },
          "execution_count": 216
        }
      ]
    },
    {
      "cell_type": "code",
      "metadata": {
        "id": "irqPxZON8v06",
        "colab": {
          "base_uri": "https://localhost:8080/"
        },
        "outputId": "45a46870-a456-4c87-a0a0-5e63de24c4d5"
      },
      "source": [
        "# Creating an ordered list with the columns\n",
        "columns_order = ['weekend', 'gender', 'age', 'education', 'principal', 'terms', 'loan_status']\n",
        "\n",
        "# Reorder our dataframe\n",
        "df = df[columns_order]\n",
        "\n",
        "# Viewing the dataframe after reordering the columns\n",
        "df.head()"
      ],
      "execution_count": null,
      "outputs": [
        {
          "output_type": "execute_result",
          "data": {
            "text/html": [
              "<div>\n",
              "<style scoped>\n",
              "    .dataframe tbody tr th:only-of-type {\n",
              "        vertical-align: middle;\n",
              "    }\n",
              "\n",
              "    .dataframe tbody tr th {\n",
              "        vertical-align: top;\n",
              "    }\n",
              "\n",
              "    .dataframe thead th {\n",
              "        text-align: right;\n",
              "    }\n",
              "</style>\n",
              "<table border=\"1\" class=\"dataframe\">\n",
              "  <thead>\n",
              "    <tr style=\"text-align: right;\">\n",
              "      <th></th>\n",
              "      <th>weekend</th>\n",
              "      <th>gender</th>\n",
              "      <th>age</th>\n",
              "      <th>education</th>\n",
              "      <th>principal</th>\n",
              "      <th>terms</th>\n",
              "      <th>loan_status</th>\n",
              "    </tr>\n",
              "  </thead>\n",
              "  <tbody>\n",
              "    <tr>\n",
              "      <th>0</th>\n",
              "      <td>0</td>\n",
              "      <td>male</td>\n",
              "      <td>45</td>\n",
              "      <td>High School or Below</td>\n",
              "      <td>1000</td>\n",
              "      <td>30</td>\n",
              "      <td>PAIDOFF</td>\n",
              "    </tr>\n",
              "    <tr>\n",
              "      <th>1</th>\n",
              "      <td>0</td>\n",
              "      <td>female</td>\n",
              "      <td>33</td>\n",
              "      <td>Bechalor</td>\n",
              "      <td>1000</td>\n",
              "      <td>30</td>\n",
              "      <td>PAIDOFF</td>\n",
              "    </tr>\n",
              "    <tr>\n",
              "      <th>2</th>\n",
              "      <td>0</td>\n",
              "      <td>male</td>\n",
              "      <td>27</td>\n",
              "      <td>college</td>\n",
              "      <td>1000</td>\n",
              "      <td>15</td>\n",
              "      <td>PAIDOFF</td>\n",
              "    </tr>\n",
              "    <tr>\n",
              "      <th>3</th>\n",
              "      <td>1</td>\n",
              "      <td>female</td>\n",
              "      <td>28</td>\n",
              "      <td>college</td>\n",
              "      <td>1000</td>\n",
              "      <td>30</td>\n",
              "      <td>PAIDOFF</td>\n",
              "    </tr>\n",
              "    <tr>\n",
              "      <th>4</th>\n",
              "      <td>1</td>\n",
              "      <td>male</td>\n",
              "      <td>29</td>\n",
              "      <td>college</td>\n",
              "      <td>1000</td>\n",
              "      <td>30</td>\n",
              "      <td>PAIDOFF</td>\n",
              "    </tr>\n",
              "  </tbody>\n",
              "</table>\n",
              "</div>"
            ],
            "text/plain": [
              "   weekend  gender  age             education  principal  terms loan_status\n",
              "0        0    male   45  High School or Below       1000     30     PAIDOFF\n",
              "1        0  female   33              Bechalor       1000     30     PAIDOFF\n",
              "2        0    male   27               college       1000     15     PAIDOFF\n",
              "3        1  female   28               college       1000     30     PAIDOFF\n",
              "4        1    male   29               college       1000     30     PAIDOFF"
            ]
          },
          "metadata": {
            "tags": []
          },
          "execution_count": 218
        }
      ]
    },
    {
      "cell_type": "markdown",
      "metadata": {
        "id": "Jl1B5zs_-D0e"
      },
      "source": [
        "### Converting **categorical** variables into **numerical** ones."
      ]
    },
    {
      "cell_type": "code",
      "metadata": {
        "id": "3oe-yqGXDhcP"
      },
      "source": [
        "# Making a new dataframe for dummies\n",
        "df_dummies = df.copy()"
      ],
      "execution_count": null,
      "outputs": []
    },
    {
      "cell_type": "code",
      "metadata": {
        "id": "2iSi81y6_gKd",
        "colab": {
          "base_uri": "https://localhost:8080/"
        },
        "outputId": "d02d6f55-885b-47ea-eb2d-1dc2effcdb81"
      },
      "source": [
        "# Viewing the distinct values and their corresponding count for categorical columns\n",
        "from pandas.api.types import is_numeric_dtype\n",
        "for col in df_dummies.columns:\n",
        "    if (is_numeric_dtype(df_dummies[col]) == False):\n",
        "      print(f'({col}):\\n{df_dummies[col].value_counts()}\\n\\n')"
      ],
      "execution_count": null,
      "outputs": [
        {
          "output_type": "stream",
          "text": [
            "(gender):\n",
            "male      294\n",
            "female     52\n",
            "Name: gender, dtype: int64\n",
            "\n",
            "\n",
            "(education):\n",
            "High School or Below    151\n",
            "college                 149\n",
            "Bechalor                 44\n",
            "Master or Above           2\n",
            "Name: education, dtype: int64\n",
            "\n",
            "\n",
            "(loan_status):\n",
            "PAIDOFF       260\n",
            "COLLECTION     86\n",
            "Name: loan_status, dtype: int64\n",
            "\n",
            "\n"
          ],
          "name": "stdout"
        }
      ]
    },
    {
      "cell_type": "code",
      "metadata": {
        "id": "rqE8q6Vm-EKX"
      },
      "source": [
        "# Replacing Categorical Classes with Numbers\n",
        "df_dummies['gender'] = df_dummies['gender'].map({'male': 0, 'female': 1})\n",
        "df_dummies['education'] = df_dummies['education'].map({'High School or Below': 0, 'college': 1, 'Bechalor': 2, 'Master or Above': 3})\n",
        "df_dummies['loan_status'] = df_dummies['loan_status'].map({'PAIDOFF': 0, 'COLLECTION': 1})"
      ],
      "execution_count": null,
      "outputs": []
    },
    {
      "cell_type": "markdown",
      "metadata": {
        "id": "lINSq-ly-SGd"
      },
      "source": [
        "> Gender Dummies\n",
        "\n",
        "| Variable         | Value   |\n",
        "|------------------|---------|\n",
        "| male           | 0       |\n",
        "| female           | 1       |"
      ]
    },
    {
      "cell_type": "markdown",
      "metadata": {
        "id": "xK6IT3wQFTNJ"
      },
      "source": [
        "> Education Dummies\n",
        "\n",
        "| Variable         | Value   |\n",
        "|------------------|---------|\n",
        "| High School or Below           | 0       |\n",
        "| college           | 1       |\n",
        "| Bechalor          | 2       |\n",
        "| Master or Above          | 3       |"
      ]
    },
    {
      "cell_type": "markdown",
      "metadata": {
        "id": "_6Lcjus-yusc"
      },
      "source": [
        "> loan_status Dummies\n",
        "\n",
        "| Variable         | Value   |\n",
        "|------------------|---------|\n",
        "| PAIDOFF                  | 0       |\n",
        "| Collection           | 1       |"
      ]
    },
    {
      "cell_type": "code",
      "metadata": {
        "colab": {
          "base_uri": "https://localhost:8080/"
        },
        "id": "oJ6qbbHC0BuZ",
        "outputId": "e5680e09-ac52-49da-9f8a-e52a759f7eef"
      },
      "source": [
        "# Viewing the top 5 rows\n",
        "df_dummies.head(5)"
      ],
      "execution_count": null,
      "outputs": [
        {
          "output_type": "execute_result",
          "data": {
            "text/html": [
              "<div>\n",
              "<style scoped>\n",
              "    .dataframe tbody tr th:only-of-type {\n",
              "        vertical-align: middle;\n",
              "    }\n",
              "\n",
              "    .dataframe tbody tr th {\n",
              "        vertical-align: top;\n",
              "    }\n",
              "\n",
              "    .dataframe thead th {\n",
              "        text-align: right;\n",
              "    }\n",
              "</style>\n",
              "<table border=\"1\" class=\"dataframe\">\n",
              "  <thead>\n",
              "    <tr style=\"text-align: right;\">\n",
              "      <th></th>\n",
              "      <th>weekend</th>\n",
              "      <th>gender</th>\n",
              "      <th>age</th>\n",
              "      <th>education</th>\n",
              "      <th>principal</th>\n",
              "      <th>terms</th>\n",
              "      <th>loan_status</th>\n",
              "    </tr>\n",
              "  </thead>\n",
              "  <tbody>\n",
              "    <tr>\n",
              "      <th>0</th>\n",
              "      <td>0</td>\n",
              "      <td>0</td>\n",
              "      <td>45</td>\n",
              "      <td>0</td>\n",
              "      <td>1000</td>\n",
              "      <td>30</td>\n",
              "      <td>0</td>\n",
              "    </tr>\n",
              "    <tr>\n",
              "      <th>1</th>\n",
              "      <td>0</td>\n",
              "      <td>1</td>\n",
              "      <td>33</td>\n",
              "      <td>2</td>\n",
              "      <td>1000</td>\n",
              "      <td>30</td>\n",
              "      <td>0</td>\n",
              "    </tr>\n",
              "    <tr>\n",
              "      <th>2</th>\n",
              "      <td>0</td>\n",
              "      <td>0</td>\n",
              "      <td>27</td>\n",
              "      <td>1</td>\n",
              "      <td>1000</td>\n",
              "      <td>15</td>\n",
              "      <td>0</td>\n",
              "    </tr>\n",
              "    <tr>\n",
              "      <th>3</th>\n",
              "      <td>1</td>\n",
              "      <td>1</td>\n",
              "      <td>28</td>\n",
              "      <td>1</td>\n",
              "      <td>1000</td>\n",
              "      <td>30</td>\n",
              "      <td>0</td>\n",
              "    </tr>\n",
              "    <tr>\n",
              "      <th>4</th>\n",
              "      <td>1</td>\n",
              "      <td>0</td>\n",
              "      <td>29</td>\n",
              "      <td>1</td>\n",
              "      <td>1000</td>\n",
              "      <td>30</td>\n",
              "      <td>0</td>\n",
              "    </tr>\n",
              "  </tbody>\n",
              "</table>\n",
              "</div>"
            ],
            "text/plain": [
              "   weekend  gender  age  education  principal  terms  loan_status\n",
              "0        0       0   45          0       1000     30            0\n",
              "1        0       1   33          2       1000     30            0\n",
              "2        0       0   27          1       1000     15            0\n",
              "3        1       1   28          1       1000     30            0\n",
              "4        1       0   29          1       1000     30            0"
            ]
          },
          "metadata": {
            "tags": []
          },
          "execution_count": 223
        }
      ]
    },
    {
      "cell_type": "markdown",
      "metadata": {
        "id": "ZdXYoeNRFYgf"
      },
      "source": [
        "\n",
        "### Throughout the previous data cleansing and preprocessing, we have assured that the data are:\n"
      ]
    },
    {
      "cell_type": "markdown",
      "metadata": {
        "id": "lDY8uwP3HeMQ"
      },
      "source": [
        "*  Having a proper **naming conventions**.\n",
        "*  Having a relevant **data types**.\n",
        "*  **Chronologically** reliable.\n",
        "*  Having **valid**, **accurate**, and **consistent** values.\n",
        "* **Complete**. (i.e No nulls)\n",
        "*  In good **format**\n",
        "*  **Unique** (i.e No duplicates)\n",
        "* **Sorted**\n",
        "* Having **dummies** for building ML/DeepLearning models"
      ]
    },
    {
      "cell_type": "code",
      "metadata": {
        "id": "LKSHTWYMF1ol",
        "colab": {
          "base_uri": "https://localhost:8080/"
        },
        "outputId": "8206023e-25a6-44af-9caf-bfea8fa89bd1"
      },
      "source": [
        "# Brief summary statistics of both numerical and categorical columns\n",
        "df_dummies.describe(include='all')"
      ],
      "execution_count": null,
      "outputs": [
        {
          "output_type": "execute_result",
          "data": {
            "text/html": [
              "<div>\n",
              "<style scoped>\n",
              "    .dataframe tbody tr th:only-of-type {\n",
              "        vertical-align: middle;\n",
              "    }\n",
              "\n",
              "    .dataframe tbody tr th {\n",
              "        vertical-align: top;\n",
              "    }\n",
              "\n",
              "    .dataframe thead th {\n",
              "        text-align: right;\n",
              "    }\n",
              "</style>\n",
              "<table border=\"1\" class=\"dataframe\">\n",
              "  <thead>\n",
              "    <tr style=\"text-align: right;\">\n",
              "      <th></th>\n",
              "      <th>weekend</th>\n",
              "      <th>gender</th>\n",
              "      <th>age</th>\n",
              "      <th>education</th>\n",
              "      <th>principal</th>\n",
              "      <th>terms</th>\n",
              "      <th>loan_status</th>\n",
              "    </tr>\n",
              "  </thead>\n",
              "  <tbody>\n",
              "    <tr>\n",
              "      <th>count</th>\n",
              "      <td>346.000000</td>\n",
              "      <td>346.000000</td>\n",
              "      <td>346.000000</td>\n",
              "      <td>346.000000</td>\n",
              "      <td>346.000000</td>\n",
              "      <td>346.000000</td>\n",
              "      <td>346.000000</td>\n",
              "    </tr>\n",
              "    <tr>\n",
              "      <th>mean</th>\n",
              "      <td>0.592486</td>\n",
              "      <td>0.150289</td>\n",
              "      <td>30.939306</td>\n",
              "      <td>0.702312</td>\n",
              "      <td>943.641618</td>\n",
              "      <td>22.653179</td>\n",
              "      <td>0.248555</td>\n",
              "    </tr>\n",
              "    <tr>\n",
              "      <th>std</th>\n",
              "      <td>0.492084</td>\n",
              "      <td>0.357872</td>\n",
              "      <td>6.039418</td>\n",
              "      <td>0.706775</td>\n",
              "      <td>109.425530</td>\n",
              "      <td>7.991006</td>\n",
              "      <td>0.432801</td>\n",
              "    </tr>\n",
              "    <tr>\n",
              "      <th>min</th>\n",
              "      <td>0.000000</td>\n",
              "      <td>0.000000</td>\n",
              "      <td>18.000000</td>\n",
              "      <td>0.000000</td>\n",
              "      <td>300.000000</td>\n",
              "      <td>7.000000</td>\n",
              "      <td>0.000000</td>\n",
              "    </tr>\n",
              "    <tr>\n",
              "      <th>25%</th>\n",
              "      <td>0.000000</td>\n",
              "      <td>0.000000</td>\n",
              "      <td>27.000000</td>\n",
              "      <td>0.000000</td>\n",
              "      <td>900.000000</td>\n",
              "      <td>15.000000</td>\n",
              "      <td>0.000000</td>\n",
              "    </tr>\n",
              "    <tr>\n",
              "      <th>50%</th>\n",
              "      <td>1.000000</td>\n",
              "      <td>0.000000</td>\n",
              "      <td>30.000000</td>\n",
              "      <td>1.000000</td>\n",
              "      <td>1000.000000</td>\n",
              "      <td>30.000000</td>\n",
              "      <td>0.000000</td>\n",
              "    </tr>\n",
              "    <tr>\n",
              "      <th>75%</th>\n",
              "      <td>1.000000</td>\n",
              "      <td>0.000000</td>\n",
              "      <td>35.000000</td>\n",
              "      <td>1.000000</td>\n",
              "      <td>1000.000000</td>\n",
              "      <td>30.000000</td>\n",
              "      <td>0.000000</td>\n",
              "    </tr>\n",
              "    <tr>\n",
              "      <th>max</th>\n",
              "      <td>1.000000</td>\n",
              "      <td>1.000000</td>\n",
              "      <td>51.000000</td>\n",
              "      <td>3.000000</td>\n",
              "      <td>1000.000000</td>\n",
              "      <td>30.000000</td>\n",
              "      <td>1.000000</td>\n",
              "    </tr>\n",
              "  </tbody>\n",
              "</table>\n",
              "</div>"
            ],
            "text/plain": [
              "          weekend      gender         age  ...    principal       terms  loan_status\n",
              "count  346.000000  346.000000  346.000000  ...   346.000000  346.000000   346.000000\n",
              "mean     0.592486    0.150289   30.939306  ...   943.641618   22.653179     0.248555\n",
              "std      0.492084    0.357872    6.039418  ...   109.425530    7.991006     0.432801\n",
              "min      0.000000    0.000000   18.000000  ...   300.000000    7.000000     0.000000\n",
              "25%      0.000000    0.000000   27.000000  ...   900.000000   15.000000     0.000000\n",
              "50%      1.000000    0.000000   30.000000  ...  1000.000000   30.000000     0.000000\n",
              "75%      1.000000    0.000000   35.000000  ...  1000.000000   30.000000     0.000000\n",
              "max      1.000000    1.000000   51.000000  ...  1000.000000   30.000000     1.000000\n",
              "\n",
              "[8 rows x 7 columns]"
            ]
          },
          "metadata": {
            "tags": []
          },
          "execution_count": 224
        }
      ]
    },
    {
      "cell_type": "markdown",
      "metadata": {
        "id": "safmAvpcHLfo"
      },
      "source": [
        "### **Exporting** to CSV"
      ]
    },
    {
      "cell_type": "code",
      "metadata": {
        "id": "mlF0HxKWHXf3"
      },
      "source": [
        "df_dummies.to_csv('CleanData-With-Dummies' , index = False)"
      ],
      "execution_count": null,
      "outputs": []
    },
    {
      "cell_type": "markdown",
      "metadata": {
        "id": "lq2SoCY_Hu25"
      },
      "source": [
        "## Exploratory Data Analysis (**EDA**)"
      ]
    },
    {
      "cell_type": "markdown",
      "metadata": {
        "id": "h5SGW5NyH0IJ"
      },
      "source": [
        "> We're going to explore the data to define which variables may have predictive powers on our target variable.\n",
        "\n",
        "> (i.e Variables may predict the loan status)"
      ]
    },
    {
      "cell_type": "code",
      "metadata": {
        "colab": {
          "base_uri": "https://localhost:8080/"
        },
        "id": "TopYzODf18Oj",
        "outputId": "f31313ed-347b-424e-8eb1-7180f89c1612"
      },
      "source": [
        "# ScatterPlot\n",
        "plt.scatter(df['terms'], df['loan_status'], alpha=0.2);"
      ],
      "execution_count": null,
      "outputs": [
        {
          "output_type": "display_data",
          "data": {
            "image/png": "[encoded data removed]",
            "text/plain": [
              "<Figure size 800x550 with 1 Axes>"
            ]
          },
          "metadata": {
            "tags": []
          }
        }
      ]
    },
    {
      "cell_type": "markdown",
      "metadata": {
        "id": "HOq1a17E6od2"
      },
      "source": [
        "> The more the term is, the more the probability of not paying-off is.\n",
        "\n",
        "> (i.e term has predictive powers)"
      ]
    },
    {
      "cell_type": "code",
      "metadata": {
        "colab": {
          "base_uri": "https://localhost:8080/"
        },
        "id": "oRTcNk2K3W3j",
        "outputId": "9dbb456c-c6f1-4d68-9223-ece0352349f1"
      },
      "source": [
        "# ScatterPlot\n",
        "plt.scatter(df['principal'], df['loan_status'], alpha=0.2);"
      ],
      "execution_count": null,
      "outputs": [
        {
          "output_type": "display_data",
          "data": {
            "image/png": "[encoded data removed]",
            "text/plain": [
              "<Figure size 800x550 with 1 Axes>"
            ]
          },
          "metadata": {
            "tags": []
          }
        }
      ]
    },
    {
      "cell_type": "markdown",
      "metadata": {
        "id": "Fkyn0nJT5r_V"
      },
      "source": [
        "> The more the principal is, the more probability of not paying-off is.\n",
        "\n",
        "> (i.e Principal amount has predictive powers)"
      ]
    },
    {
      "cell_type": "code",
      "metadata": {
        "colab": {
          "base_uri": "https://localhost:8080/"
        },
        "id": "0qzNLBhH3W6D",
        "outputId": "75b1f56a-7600-4811-93d7-1431a47bceaf"
      },
      "source": [
        "# Histograms\n",
        "sns.histplot(data=df, x=\"education\", hue=\"loan_status\", multiple=\"dodge\", shrink=.8);"
      ],
      "execution_count": null,
      "outputs": [
        {
          "output_type": "display_data",
          "data": {
            "image/png": "[encoded data removed]",
            "text/plain": [
              "<Figure size 800x550 with 1 Axes>"
            ]
          },
          "metadata": {
            "tags": []
          }
        }
      ]
    },
    {
      "cell_type": "markdown",
      "metadata": {
        "id": "3jD_0te83dlU"
      },
      "source": [
        "> It sounds like the more educated the person is, the more likelihood of paying-off is.\n",
        "\n",
        "> (i.e Education has predictive powers)"
      ]
    },
    {
      "cell_type": "code",
      "metadata": {
        "colab": {
          "base_uri": "https://localhost:8080/"
        },
        "id": "n-GAKihj19PD",
        "outputId": "3d76f2ea-0252-4cce-9ab6-2542beaea8b8"
      },
      "source": [
        "# Histograms\n",
        "sns.histplot(data=df, x=\"age\", hue=\"loan_status\", multiple=\"dodge\", shrink=.8);"
      ],
      "execution_count": null,
      "outputs": [
        {
          "output_type": "display_data",
          "data": {
            "image/png": "[encoded data removed]",
            "text/plain": [
              "<Figure size 800x550 with 1 Axes>"
            ]
          },
          "metadata": {
            "tags": []
          }
        }
      ]
    },
    {
      "cell_type": "markdown",
      "metadata": {
        "id": "6vtSYjeq3Glq"
      },
      "source": [
        "> Referencing the chart above, we notice that mid-aged people are more likely to be under collention yet.\n",
        "\n",
        "> (i.e Age has predictive powers.)"
      ]
    },
    {
      "cell_type": "code",
      "metadata": {
        "colab": {
          "base_uri": "https://localhost:8080/"
        },
        "id": "oeBu3EWV19WX",
        "outputId": "ad47a363-fc32-493f-fce3-d951306f139e"
      },
      "source": [
        "# Histograms\n",
        "sns.histplot(data=df, x=\"gender\", hue=\"loan_status\", multiple=\"dodge\", shrink=.8);"
      ],
      "execution_count": null,
      "outputs": [
        {
          "output_type": "display_data",
          "data": {
            "image/png": "[encoded data removed]",
            "text/plain": [
              "<Figure size 800x550 with 1 Axes>"
            ]
          },
          "metadata": {
            "tags": []
          }
        }
      ]
    },
    {
      "cell_type": "markdown",
      "metadata": {
        "id": "QoFS8EEa2XCa"
      },
      "source": [
        "> It sounds like males are more proojected to not paying-off than females.\n",
        "\n",
        "> (i.e Gender has predictive powers.)"
      ]
    },
    {
      "cell_type": "code",
      "metadata": {
        "id": "8W1xem-yHvaJ",
        "colab": {
          "base_uri": "https://localhost:8080/"
        },
        "outputId": "7b0c0bb3-67e0-4b61-f5e2-8f9ab91da579"
      },
      "source": [
        "# Histograms\n",
        "sns.histplot(data=df, x=\"weekend\", hue=\"loan_status\", multiple=\"dodge\", shrink=.8);"
      ],
      "execution_count": null,
      "outputs": [
        {
          "output_type": "display_data",
          "data": {
            "image/png": "[encoded data removed]",
            "text/plain": [
              "<Figure size 800x550 with 1 Axes>"
            ]
          },
          "metadata": {
            "tags": []
          }
        }
      ]
    },
    {
      "cell_type": "markdown",
      "metadata": {
        "id": "wVqhA5-T2L1p"
      },
      "source": [
        "> It seems that the likelihood of not paying-off is higher on weekends than other days.\n",
        "\n",
        "> (i.e weekends have predictive powers)"
      ]
    },
    {
      "cell_type": "markdown",
      "metadata": {
        "id": "bIBHchjGLaZX"
      },
      "source": [
        "# **Classification** Models\n",
        "*   K Nearest Neighbor(KNN)\n",
        "*   Decision Tree\n",
        "*   Support Vector Machine (SVM)\n",
        "*   Logistic Regression (Probabilities of an event)"
      ]
    },
    {
      "cell_type": "markdown",
      "metadata": {
        "id": "D200ja3eLsDI"
      },
      "source": [
        "#### **Feature** Selection"
      ]
    },
    {
      "cell_type": "code",
      "metadata": {
        "colab": {
          "base_uri": "https://localhost:8080/"
        },
        "id": "vIPjjOxo69HM",
        "outputId": "1c87bd81-7077-40f4-b16e-2670c65b449f"
      },
      "source": [
        "df_dummies.columns"
      ],
      "execution_count": null,
      "outputs": [
        {
          "output_type": "execute_result",
          "data": {
            "text/plain": [
              "Index(['weekend', 'gender', 'age', 'education', 'principal', 'terms',\n",
              "       'loan_status'],\n",
              "      dtype='object')"
            ]
          },
          "metadata": {
            "tags": []
          },
          "execution_count": 232
        }
      ]
    },
    {
      "cell_type": "code",
      "metadata": {
        "id": "73EoA-nVLZt4",
        "colab": {
          "base_uri": "https://localhost:8080/"
        },
        "outputId": "3f699ccf-14a9-4608-9907-a2761da3aee3"
      },
      "source": [
        "# Assigning the target variable(Y)\n",
        "y =  df_dummies['loan_status']\n",
        "y"
      ],
      "execution_count": null,
      "outputs": [
        {
          "output_type": "execute_result",
          "data": {
            "text/plain": [
              "0      0\n",
              "1      0\n",
              "2      0\n",
              "3      0\n",
              "4      0\n",
              "      ..\n",
              "341    1\n",
              "342    1\n",
              "343    1\n",
              "344    1\n",
              "345    1\n",
              "Name: loan_status, Length: 346, dtype: int64"
            ]
          },
          "metadata": {
            "tags": []
          },
          "execution_count": 233
        }
      ]
    },
    {
      "cell_type": "code",
      "metadata": {
        "id": "HPJUPwaBMapJ",
        "colab": {
          "base_uri": "https://localhost:8080/"
        },
        "outputId": "d9b5e08d-30ca-4790-900c-2983b5bf2c8d"
      },
      "source": [
        "# Assigning the inputs(Xs)\n",
        "x = df_dummies[['weekend', 'gender', 'age', 'education', 'principal', 'terms']]\n",
        "x"
      ],
      "execution_count": null,
      "outputs": [
        {
          "output_type": "execute_result",
          "data": {
            "text/html": [
              "<div>\n",
              "<style scoped>\n",
              "    .dataframe tbody tr th:only-of-type {\n",
              "        vertical-align: middle;\n",
              "    }\n",
              "\n",
              "    .dataframe tbody tr th {\n",
              "        vertical-align: top;\n",
              "    }\n",
              "\n",
              "    .dataframe thead th {\n",
              "        text-align: right;\n",
              "    }\n",
              "</style>\n",
              "<table border=\"1\" class=\"dataframe\">\n",
              "  <thead>\n",
              "    <tr style=\"text-align: right;\">\n",
              "      <th></th>\n",
              "      <th>weekend</th>\n",
              "      <th>gender</th>\n",
              "      <th>age</th>\n",
              "      <th>education</th>\n",
              "      <th>principal</th>\n",
              "      <th>terms</th>\n",
              "    </tr>\n",
              "  </thead>\n",
              "  <tbody>\n",
              "    <tr>\n",
              "      <th>0</th>\n",
              "      <td>0</td>\n",
              "      <td>0</td>\n",
              "      <td>45</td>\n",
              "      <td>0</td>\n",
              "      <td>1000</td>\n",
              "      <td>30</td>\n",
              "    </tr>\n",
              "    <tr>\n",
              "      <th>1</th>\n",
              "      <td>0</td>\n",
              "      <td>1</td>\n",
              "      <td>33</td>\n",
              "      <td>2</td>\n",
              "      <td>1000</td>\n",
              "      <td>30</td>\n",
              "    </tr>\n",
              "    <tr>\n",
              "      <th>2</th>\n",
              "      <td>0</td>\n",
              "      <td>0</td>\n",
              "      <td>27</td>\n",
              "      <td>1</td>\n",
              "      <td>1000</td>\n",
              "      <td>15</td>\n",
              "    </tr>\n",
              "    <tr>\n",
              "      <th>3</th>\n",
              "      <td>1</td>\n",
              "      <td>1</td>\n",
              "      <td>28</td>\n",
              "      <td>1</td>\n",
              "      <td>1000</td>\n",
              "      <td>30</td>\n",
              "    </tr>\n",
              "    <tr>\n",
              "      <th>4</th>\n",
              "      <td>1</td>\n",
              "      <td>0</td>\n",
              "      <td>29</td>\n",
              "      <td>1</td>\n",
              "      <td>1000</td>\n",
              "      <td>30</td>\n",
              "    </tr>\n",
              "    <tr>\n",
              "      <th>...</th>\n",
              "      <td>...</td>\n",
              "      <td>...</td>\n",
              "      <td>...</td>\n",
              "      <td>...</td>\n",
              "      <td>...</td>\n",
              "      <td>...</td>\n",
              "    </tr>\n",
              "    <tr>\n",
              "      <th>341</th>\n",
              "      <td>1</td>\n",
              "      <td>0</td>\n",
              "      <td>32</td>\n",
              "      <td>0</td>\n",
              "      <td>800</td>\n",
              "      <td>15</td>\n",
              "    </tr>\n",
              "    <tr>\n",
              "      <th>342</th>\n",
              "      <td>1</td>\n",
              "      <td>0</td>\n",
              "      <td>25</td>\n",
              "      <td>0</td>\n",
              "      <td>1000</td>\n",
              "      <td>30</td>\n",
              "    </tr>\n",
              "    <tr>\n",
              "      <th>343</th>\n",
              "      <td>0</td>\n",
              "      <td>0</td>\n",
              "      <td>39</td>\n",
              "      <td>1</td>\n",
              "      <td>800</td>\n",
              "      <td>15</td>\n",
              "    </tr>\n",
              "    <tr>\n",
              "      <th>344</th>\n",
              "      <td>0</td>\n",
              "      <td>0</td>\n",
              "      <td>28</td>\n",
              "      <td>1</td>\n",
              "      <td>1000</td>\n",
              "      <td>30</td>\n",
              "    </tr>\n",
              "    <tr>\n",
              "      <th>345</th>\n",
              "      <td>0</td>\n",
              "      <td>0</td>\n",
              "      <td>26</td>\n",
              "      <td>1</td>\n",
              "      <td>1000</td>\n",
              "      <td>30</td>\n",
              "    </tr>\n",
              "  </tbody>\n",
              "</table>\n",
              "<p>346 rows × 6 columns</p>\n",
              "</div>"
            ],
            "text/plain": [
              "     weekend  gender  age  education  principal  terms\n",
              "0          0       0   45          0       1000     30\n",
              "1          0       1   33          2       1000     30\n",
              "2          0       0   27          1       1000     15\n",
              "3          1       1   28          1       1000     30\n",
              "4          1       0   29          1       1000     30\n",
              "..       ...     ...  ...        ...        ...    ...\n",
              "341        1       0   32          0        800     15\n",
              "342        1       0   25          0       1000     30\n",
              "343        0       0   39          1        800     15\n",
              "344        0       0   28          1       1000     30\n",
              "345        0       0   26          1       1000     30\n",
              "\n",
              "[346 rows x 6 columns]"
            ]
          },
          "metadata": {
            "tags": []
          },
          "execution_count": 234
        }
      ]
    },
    {
      "cell_type": "markdown",
      "metadata": {
        "id": "3mdrfTH6Mg4i"
      },
      "source": [
        "#### **Scaling || Standardization || Normalizing**"
      ]
    },
    {
      "cell_type": "markdown",
      "metadata": {
        "id": "NxBPlI3KM_7o"
      },
      "source": [
        " - To avoid the high order magnitudes of variables (i.e put them on the same footage)\n",
        " - X ~ N(0, 1)"
      ]
    },
    {
      "cell_type": "code",
      "metadata": {
        "id": "pxxQn71BMiFy",
        "colab": {
          "base_uri": "https://localhost:8080/"
        },
        "outputId": "7fd21bc5-7e75-4f74-f70d-c7baa7b9efb3"
      },
      "source": [
        "from sklearn.preprocessing import StandardScaler\n",
        "scaler = StandardScaler()\n",
        "scaler.fit(x)\n",
        "x_scaled = scaler.transform(x)\n",
        "x_scaled"
      ],
      "execution_count": null,
      "outputs": [
        {
          "output_type": "execute_result",
          "data": {
            "text/plain": [
              "array([[-1.20577805, -0.42056004,  2.33152555, -0.99512471,  0.51578458,\n",
              "         0.92071769],\n",
              "       [-1.20577805,  2.37778177,  0.34170148,  1.83872837,  0.51578458,\n",
              "         0.92071769],\n",
              "       [-1.20577805, -0.42056004, -0.65321055,  0.42180183,  0.51578458,\n",
              "        -0.95911111],\n",
              "       ...,\n",
              "       [-1.20577805, -0.42056004,  1.33661351,  0.42180183, -1.31458942,\n",
              "        -0.95911111],\n",
              "       [-1.20577805, -0.42056004, -0.48739188,  0.42180183,  0.51578458,\n",
              "         0.92071769],\n",
              "       [-1.20577805, -0.42056004, -0.81902922,  0.42180183,  0.51578458,\n",
              "         0.92071769]])"
            ]
          },
          "metadata": {
            "tags": []
          },
          "execution_count": 235
        }
      ]
    },
    {
      "cell_type": "markdown",
      "metadata": {
        "id": "joGsSo0IM3tx"
      },
      "source": [
        "#### Splitting To **Train & Test**"
      ]
    },
    {
      "cell_type": "markdown",
      "metadata": {
        "id": "SD__bF8hNUTR"
      },
      "source": [
        " - To avoid model overfitting (i.e High training on a the data entirely capturing all the Noise)\n",
        " - This makes the model not generalized to be applied on an OutOfSample data."
      ]
    },
    {
      "cell_type": "code",
      "metadata": {
        "id": "_DXlBf1VM376",
        "colab": {
          "base_uri": "https://localhost:8080/"
        },
        "outputId": "f3143db3-4cb5-4531-ea44-16a6bc3d78cc"
      },
      "source": [
        "x_train = x_scaled \n",
        "y_train = y\n",
        "print ('Train set:', x_train.shape,  y_train.shape)"
      ],
      "execution_count": null,
      "outputs": [
        {
          "output_type": "stream",
          "text": [
            "Train set: (346, 6) (346,)\n"
          ],
          "name": "stdout"
        }
      ]
    },
    {
      "cell_type": "code",
      "metadata": {
        "colab": {
          "base_uri": "https://localhost:8080/"
        },
        "id": "_8svIXk6sjey",
        "outputId": "96ec5729-179b-40d9-ceed-c8a0b2f04509"
      },
      "source": [
        "!wget -O loan_test.csv https://s3-api.us-geo.objectstorage.softlayer.net/cf-courses-data/CognitiveClass/ML0101ENv3/labs/loan_test.csv"
      ],
      "execution_count": null,
      "outputs": [
        {
          "output_type": "stream",
          "text": [
            "--2021-06-13 01:59:09--  https://s3-api.us-geo.objectstorage.softlayer.net/cf-courses-data/CognitiveClass/ML0101ENv3/labs/loan_test.csv\n",
            "Resolving s3-api.us-geo.objectstorage.softlayer.net (s3-api.us-geo.objectstorage.softlayer.net)... 67.228.254.196\n",
            "Connecting to s3-api.us-geo.objectstorage.softlayer.net (s3-api.us-geo.objectstorage.softlayer.net)|67.228.254.196|:443... connected.\n",
            "HTTP request sent, awaiting response... 200 OK\n",
            "Length: 3642 (3.6K) [text/csv]\n",
            "Saving to: ‘loan_test.csv’\n",
            "\n",
            "loan_test.csv       100%[===================>]   3.56K  --.-KB/s    in 0s      \n",
            "\n",
            "2021-06-13 01:59:10 (782 MB/s) - ‘loan_test.csv’ saved [3642/3642]\n",
            "\n"
          ],
          "name": "stdout"
        }
      ]
    },
    {
      "cell_type": "code",
      "metadata": {
        "id": "x9DGcS_a8kSU"
      },
      "source": [
        "DATA2 = pd.read_csv(\"loan_test.csv\")\n",
        "x_test_raw =  DATA2.copy()"
      ],
      "execution_count": null,
      "outputs": []
    },
    {
      "cell_type": "markdown",
      "metadata": {
        "id": "wW95pAcAA1XR"
      },
      "source": [
        "> Repeating what we'done for the train dataset during cleaning and preprocessing, but this time for the testdataset"
      ]
    },
    {
      "cell_type": "code",
      "metadata": {
        "colab": {
          "base_uri": "https://localhost:8080/"
        },
        "id": "JkNXy-Xp8qTG",
        "outputId": "57a543de-b75e-4188-c115-725461f06397"
      },
      "source": [
        "# Renaming the columns to be in lowercase separated by '_' instead of spaces\n",
        "x_test_raw.rename( columns= lambda x : x.strip().lower().replace(' ','_'), inplace = True);\n",
        "\n",
        "x_test_raw.head(5)"
      ],
      "execution_count": null,
      "outputs": [
        {
          "output_type": "execute_result",
          "data": {
            "text/html": [
              "<div>\n",
              "<style scoped>\n",
              "    .dataframe tbody tr th:only-of-type {\n",
              "        vertical-align: middle;\n",
              "    }\n",
              "\n",
              "    .dataframe tbody tr th {\n",
              "        vertical-align: top;\n",
              "    }\n",
              "\n",
              "    .dataframe thead th {\n",
              "        text-align: right;\n",
              "    }\n",
              "</style>\n",
              "<table border=\"1\" class=\"dataframe\">\n",
              "  <thead>\n",
              "    <tr style=\"text-align: right;\">\n",
              "      <th></th>\n",
              "      <th>unnamed:_0</th>\n",
              "      <th>unnamed:_0.1</th>\n",
              "      <th>loan_status</th>\n",
              "      <th>principal</th>\n",
              "      <th>terms</th>\n",
              "      <th>effective_date</th>\n",
              "      <th>due_date</th>\n",
              "      <th>age</th>\n",
              "      <th>education</th>\n",
              "      <th>gender</th>\n",
              "    </tr>\n",
              "  </thead>\n",
              "  <tbody>\n",
              "    <tr>\n",
              "      <th>0</th>\n",
              "      <td>1</td>\n",
              "      <td>1</td>\n",
              "      <td>PAIDOFF</td>\n",
              "      <td>1000</td>\n",
              "      <td>30</td>\n",
              "      <td>9/8/2016</td>\n",
              "      <td>10/7/2016</td>\n",
              "      <td>50</td>\n",
              "      <td>Bechalor</td>\n",
              "      <td>female</td>\n",
              "    </tr>\n",
              "    <tr>\n",
              "      <th>1</th>\n",
              "      <td>5</td>\n",
              "      <td>5</td>\n",
              "      <td>PAIDOFF</td>\n",
              "      <td>300</td>\n",
              "      <td>7</td>\n",
              "      <td>9/9/2016</td>\n",
              "      <td>9/15/2016</td>\n",
              "      <td>35</td>\n",
              "      <td>Master or Above</td>\n",
              "      <td>male</td>\n",
              "    </tr>\n",
              "    <tr>\n",
              "      <th>2</th>\n",
              "      <td>21</td>\n",
              "      <td>21</td>\n",
              "      <td>PAIDOFF</td>\n",
              "      <td>1000</td>\n",
              "      <td>30</td>\n",
              "      <td>9/10/2016</td>\n",
              "      <td>10/9/2016</td>\n",
              "      <td>43</td>\n",
              "      <td>High School or Below</td>\n",
              "      <td>female</td>\n",
              "    </tr>\n",
              "    <tr>\n",
              "      <th>3</th>\n",
              "      <td>24</td>\n",
              "      <td>24</td>\n",
              "      <td>PAIDOFF</td>\n",
              "      <td>1000</td>\n",
              "      <td>30</td>\n",
              "      <td>9/10/2016</td>\n",
              "      <td>10/9/2016</td>\n",
              "      <td>26</td>\n",
              "      <td>college</td>\n",
              "      <td>male</td>\n",
              "    </tr>\n",
              "    <tr>\n",
              "      <th>4</th>\n",
              "      <td>35</td>\n",
              "      <td>35</td>\n",
              "      <td>PAIDOFF</td>\n",
              "      <td>800</td>\n",
              "      <td>15</td>\n",
              "      <td>9/11/2016</td>\n",
              "      <td>9/25/2016</td>\n",
              "      <td>29</td>\n",
              "      <td>Bechalor</td>\n",
              "      <td>male</td>\n",
              "    </tr>\n",
              "  </tbody>\n",
              "</table>\n",
              "</div>"
            ],
            "text/plain": [
              "   unnamed:_0  unnamed:_0.1 loan_status  ...  age             education  gender\n",
              "0           1             1     PAIDOFF  ...   50              Bechalor  female\n",
              "1           5             5     PAIDOFF  ...   35       Master or Above    male\n",
              "2          21            21     PAIDOFF  ...   43  High School or Below  female\n",
              "3          24            24     PAIDOFF  ...   26               college    male\n",
              "4          35            35     PAIDOFF  ...   29              Bechalor    male\n",
              "\n",
              "[5 rows x 10 columns]"
            ]
          },
          "metadata": {
            "tags": []
          },
          "execution_count": 244
        }
      ]
    },
    {
      "cell_type": "code",
      "metadata": {
        "colab": {
          "base_uri": "https://localhost:8080/"
        },
        "id": "FGn8x9YbA593",
        "outputId": "794e39e8-56b2-4bfb-ba99-0dc23c6e8bb3"
      },
      "source": [
        "# creating a list holding the columns to be dropped\n",
        "cols = ['unnamed:_0', 'unnamed:_0.1', 'due_date']\n",
        "\n",
        "# Dropping the columns\n",
        "x_test_raw.drop( cols, axis=1, inplace= True )\n",
        "\n",
        "x_test_raw.head()"
      ],
      "execution_count": null,
      "outputs": [
        {
          "output_type": "execute_result",
          "data": {
            "text/html": [
              "<div>\n",
              "<style scoped>\n",
              "    .dataframe tbody tr th:only-of-type {\n",
              "        vertical-align: middle;\n",
              "    }\n",
              "\n",
              "    .dataframe tbody tr th {\n",
              "        vertical-align: top;\n",
              "    }\n",
              "\n",
              "    .dataframe thead th {\n",
              "        text-align: right;\n",
              "    }\n",
              "</style>\n",
              "<table border=\"1\" class=\"dataframe\">\n",
              "  <thead>\n",
              "    <tr style=\"text-align: right;\">\n",
              "      <th></th>\n",
              "      <th>loan_status</th>\n",
              "      <th>principal</th>\n",
              "      <th>terms</th>\n",
              "      <th>effective_date</th>\n",
              "      <th>age</th>\n",
              "      <th>education</th>\n",
              "      <th>gender</th>\n",
              "    </tr>\n",
              "  </thead>\n",
              "  <tbody>\n",
              "    <tr>\n",
              "      <th>0</th>\n",
              "      <td>PAIDOFF</td>\n",
              "      <td>1000</td>\n",
              "      <td>30</td>\n",
              "      <td>9/8/2016</td>\n",
              "      <td>50</td>\n",
              "      <td>Bechalor</td>\n",
              "      <td>female</td>\n",
              "    </tr>\n",
              "    <tr>\n",
              "      <th>1</th>\n",
              "      <td>PAIDOFF</td>\n",
              "      <td>300</td>\n",
              "      <td>7</td>\n",
              "      <td>9/9/2016</td>\n",
              "      <td>35</td>\n",
              "      <td>Master or Above</td>\n",
              "      <td>male</td>\n",
              "    </tr>\n",
              "    <tr>\n",
              "      <th>2</th>\n",
              "      <td>PAIDOFF</td>\n",
              "      <td>1000</td>\n",
              "      <td>30</td>\n",
              "      <td>9/10/2016</td>\n",
              "      <td>43</td>\n",
              "      <td>High School or Below</td>\n",
              "      <td>female</td>\n",
              "    </tr>\n",
              "    <tr>\n",
              "      <th>3</th>\n",
              "      <td>PAIDOFF</td>\n",
              "      <td>1000</td>\n",
              "      <td>30</td>\n",
              "      <td>9/10/2016</td>\n",
              "      <td>26</td>\n",
              "      <td>college</td>\n",
              "      <td>male</td>\n",
              "    </tr>\n",
              "    <tr>\n",
              "      <th>4</th>\n",
              "      <td>PAIDOFF</td>\n",
              "      <td>800</td>\n",
              "      <td>15</td>\n",
              "      <td>9/11/2016</td>\n",
              "      <td>29</td>\n",
              "      <td>Bechalor</td>\n",
              "      <td>male</td>\n",
              "    </tr>\n",
              "  </tbody>\n",
              "</table>\n",
              "</div>"
            ],
            "text/plain": [
              "  loan_status  principal  terms  ... age             education  gender\n",
              "0     PAIDOFF       1000     30  ...  50              Bechalor  female\n",
              "1     PAIDOFF        300      7  ...  35       Master or Above    male\n",
              "2     PAIDOFF       1000     30  ...  43  High School or Below  female\n",
              "3     PAIDOFF       1000     30  ...  26               college    male\n",
              "4     PAIDOFF        800     15  ...  29              Bechalor    male\n",
              "\n",
              "[5 rows x 7 columns]"
            ]
          },
          "metadata": {
            "tags": []
          },
          "execution_count": 245
        }
      ]
    },
    {
      "cell_type": "code",
      "metadata": {
        "colab": {
          "base_uri": "https://localhost:8080/"
        },
        "id": "vFcpeNVMA6C_",
        "outputId": "cc97de95-f639-4e3f-80d3-e20aac9668e8"
      },
      "source": [
        "# Converting a string column into datetime \n",
        "x_test_raw['effective_date'] = pd.to_datetime( x_test_raw['effective_date'] )\n",
        "\n",
        "# Extracting the day of the week from the date column\n",
        "x_test_raw['day_of_week'] = x_test_raw['effective_date'].dt.dayofweek\n",
        "\n",
        "# Creating a column to tell either we're in a weekend or not\n",
        "x_test_raw['weekend'] = x_test_raw['day_of_week'].apply(lambda x: 1 if (x>3)  else 0)\n",
        "\n",
        "x_test_raw.head(5)"
      ],
      "execution_count": null,
      "outputs": [
        {
          "output_type": "execute_result",
          "data": {
            "text/html": [
              "<div>\n",
              "<style scoped>\n",
              "    .dataframe tbody tr th:only-of-type {\n",
              "        vertical-align: middle;\n",
              "    }\n",
              "\n",
              "    .dataframe tbody tr th {\n",
              "        vertical-align: top;\n",
              "    }\n",
              "\n",
              "    .dataframe thead th {\n",
              "        text-align: right;\n",
              "    }\n",
              "</style>\n",
              "<table border=\"1\" class=\"dataframe\">\n",
              "  <thead>\n",
              "    <tr style=\"text-align: right;\">\n",
              "      <th></th>\n",
              "      <th>loan_status</th>\n",
              "      <th>principal</th>\n",
              "      <th>terms</th>\n",
              "      <th>effective_date</th>\n",
              "      <th>age</th>\n",
              "      <th>education</th>\n",
              "      <th>gender</th>\n",
              "      <th>day_of_week</th>\n",
              "      <th>weekend</th>\n",
              "    </tr>\n",
              "  </thead>\n",
              "  <tbody>\n",
              "    <tr>\n",
              "      <th>0</th>\n",
              "      <td>PAIDOFF</td>\n",
              "      <td>1000</td>\n",
              "      <td>30</td>\n",
              "      <td>2016-09-08</td>\n",
              "      <td>50</td>\n",
              "      <td>Bechalor</td>\n",
              "      <td>female</td>\n",
              "      <td>3</td>\n",
              "      <td>0</td>\n",
              "    </tr>\n",
              "    <tr>\n",
              "      <th>1</th>\n",
              "      <td>PAIDOFF</td>\n",
              "      <td>300</td>\n",
              "      <td>7</td>\n",
              "      <td>2016-09-09</td>\n",
              "      <td>35</td>\n",
              "      <td>Master or Above</td>\n",
              "      <td>male</td>\n",
              "      <td>4</td>\n",
              "      <td>1</td>\n",
              "    </tr>\n",
              "    <tr>\n",
              "      <th>2</th>\n",
              "      <td>PAIDOFF</td>\n",
              "      <td>1000</td>\n",
              "      <td>30</td>\n",
              "      <td>2016-09-10</td>\n",
              "      <td>43</td>\n",
              "      <td>High School or Below</td>\n",
              "      <td>female</td>\n",
              "      <td>5</td>\n",
              "      <td>1</td>\n",
              "    </tr>\n",
              "    <tr>\n",
              "      <th>3</th>\n",
              "      <td>PAIDOFF</td>\n",
              "      <td>1000</td>\n",
              "      <td>30</td>\n",
              "      <td>2016-09-10</td>\n",
              "      <td>26</td>\n",
              "      <td>college</td>\n",
              "      <td>male</td>\n",
              "      <td>5</td>\n",
              "      <td>1</td>\n",
              "    </tr>\n",
              "    <tr>\n",
              "      <th>4</th>\n",
              "      <td>PAIDOFF</td>\n",
              "      <td>800</td>\n",
              "      <td>15</td>\n",
              "      <td>2016-09-11</td>\n",
              "      <td>29</td>\n",
              "      <td>Bechalor</td>\n",
              "      <td>male</td>\n",
              "      <td>6</td>\n",
              "      <td>1</td>\n",
              "    </tr>\n",
              "  </tbody>\n",
              "</table>\n",
              "</div>"
            ],
            "text/plain": [
              "  loan_status  principal  terms  ...  gender  day_of_week weekend\n",
              "0     PAIDOFF       1000     30  ...  female            3       0\n",
              "1     PAIDOFF        300      7  ...    male            4       1\n",
              "2     PAIDOFF       1000     30  ...  female            5       1\n",
              "3     PAIDOFF       1000     30  ...    male            5       1\n",
              "4     PAIDOFF        800     15  ...    male            6       1\n",
              "\n",
              "[5 rows x 9 columns]"
            ]
          },
          "metadata": {
            "tags": []
          },
          "execution_count": 246
        }
      ]
    },
    {
      "cell_type": "code",
      "metadata": {
        "colab": {
          "base_uri": "https://localhost:8080/"
        },
        "id": "TXizAakjA6HI",
        "outputId": "63d5268d-44e9-4be8-def0-00ce9aa07bd3"
      },
      "source": [
        "# Dropping uneeded columns\n",
        "x_test_raw.drop( ['day_of_week', 'effective_date'] , axis=1, inplace= True )\n",
        "x_test_raw.head(5)"
      ],
      "execution_count": null,
      "outputs": [
        {
          "output_type": "execute_result",
          "data": {
            "text/html": [
              "<div>\n",
              "<style scoped>\n",
              "    .dataframe tbody tr th:only-of-type {\n",
              "        vertical-align: middle;\n",
              "    }\n",
              "\n",
              "    .dataframe tbody tr th {\n",
              "        vertical-align: top;\n",
              "    }\n",
              "\n",
              "    .dataframe thead th {\n",
              "        text-align: right;\n",
              "    }\n",
              "</style>\n",
              "<table border=\"1\" class=\"dataframe\">\n",
              "  <thead>\n",
              "    <tr style=\"text-align: right;\">\n",
              "      <th></th>\n",
              "      <th>loan_status</th>\n",
              "      <th>principal</th>\n",
              "      <th>terms</th>\n",
              "      <th>age</th>\n",
              "      <th>education</th>\n",
              "      <th>gender</th>\n",
              "      <th>weekend</th>\n",
              "    </tr>\n",
              "  </thead>\n",
              "  <tbody>\n",
              "    <tr>\n",
              "      <th>0</th>\n",
              "      <td>PAIDOFF</td>\n",
              "      <td>1000</td>\n",
              "      <td>30</td>\n",
              "      <td>50</td>\n",
              "      <td>Bechalor</td>\n",
              "      <td>female</td>\n",
              "      <td>0</td>\n",
              "    </tr>\n",
              "    <tr>\n",
              "      <th>1</th>\n",
              "      <td>PAIDOFF</td>\n",
              "      <td>300</td>\n",
              "      <td>7</td>\n",
              "      <td>35</td>\n",
              "      <td>Master or Above</td>\n",
              "      <td>male</td>\n",
              "      <td>1</td>\n",
              "    </tr>\n",
              "    <tr>\n",
              "      <th>2</th>\n",
              "      <td>PAIDOFF</td>\n",
              "      <td>1000</td>\n",
              "      <td>30</td>\n",
              "      <td>43</td>\n",
              "      <td>High School or Below</td>\n",
              "      <td>female</td>\n",
              "      <td>1</td>\n",
              "    </tr>\n",
              "    <tr>\n",
              "      <th>3</th>\n",
              "      <td>PAIDOFF</td>\n",
              "      <td>1000</td>\n",
              "      <td>30</td>\n",
              "      <td>26</td>\n",
              "      <td>college</td>\n",
              "      <td>male</td>\n",
              "      <td>1</td>\n",
              "    </tr>\n",
              "    <tr>\n",
              "      <th>4</th>\n",
              "      <td>PAIDOFF</td>\n",
              "      <td>800</td>\n",
              "      <td>15</td>\n",
              "      <td>29</td>\n",
              "      <td>Bechalor</td>\n",
              "      <td>male</td>\n",
              "      <td>1</td>\n",
              "    </tr>\n",
              "  </tbody>\n",
              "</table>\n",
              "</div>"
            ],
            "text/plain": [
              "  loan_status  principal  terms  age             education  gender  weekend\n",
              "0     PAIDOFF       1000     30   50              Bechalor  female        0\n",
              "1     PAIDOFF        300      7   35       Master or Above    male        1\n",
              "2     PAIDOFF       1000     30   43  High School or Below  female        1\n",
              "3     PAIDOFF       1000     30   26               college    male        1\n",
              "4     PAIDOFF        800     15   29              Bechalor    male        1"
            ]
          },
          "metadata": {
            "tags": []
          },
          "execution_count": 247
        }
      ]
    },
    {
      "cell_type": "code",
      "metadata": {
        "colab": {
          "base_uri": "https://localhost:8080/"
        },
        "id": "eV45-EBj_9-V",
        "outputId": "1a06010c-ebca-4af8-9413-85794c3aa1bf"
      },
      "source": [
        "\n",
        "# Creating an ordered list with the columns\n",
        "columns_order = ['weekend', 'gender', 'age', 'education', 'principal', 'terms', 'loan_status']\n",
        "\n",
        "# Reorder our dataframe\n",
        "x_test_raw = x_test_raw[columns_order]\n",
        "x_test_raw.head(5)"
      ],
      "execution_count": null,
      "outputs": [
        {
          "output_type": "execute_result",
          "data": {
            "text/html": [
              "<div>\n",
              "<style scoped>\n",
              "    .dataframe tbody tr th:only-of-type {\n",
              "        vertical-align: middle;\n",
              "    }\n",
              "\n",
              "    .dataframe tbody tr th {\n",
              "        vertical-align: top;\n",
              "    }\n",
              "\n",
              "    .dataframe thead th {\n",
              "        text-align: right;\n",
              "    }\n",
              "</style>\n",
              "<table border=\"1\" class=\"dataframe\">\n",
              "  <thead>\n",
              "    <tr style=\"text-align: right;\">\n",
              "      <th></th>\n",
              "      <th>weekend</th>\n",
              "      <th>gender</th>\n",
              "      <th>age</th>\n",
              "      <th>education</th>\n",
              "      <th>principal</th>\n",
              "      <th>terms</th>\n",
              "      <th>loan_status</th>\n",
              "    </tr>\n",
              "  </thead>\n",
              "  <tbody>\n",
              "    <tr>\n",
              "      <th>0</th>\n",
              "      <td>0</td>\n",
              "      <td>female</td>\n",
              "      <td>50</td>\n",
              "      <td>Bechalor</td>\n",
              "      <td>1000</td>\n",
              "      <td>30</td>\n",
              "      <td>PAIDOFF</td>\n",
              "    </tr>\n",
              "    <tr>\n",
              "      <th>1</th>\n",
              "      <td>1</td>\n",
              "      <td>male</td>\n",
              "      <td>35</td>\n",
              "      <td>Master or Above</td>\n",
              "      <td>300</td>\n",
              "      <td>7</td>\n",
              "      <td>PAIDOFF</td>\n",
              "    </tr>\n",
              "    <tr>\n",
              "      <th>2</th>\n",
              "      <td>1</td>\n",
              "      <td>female</td>\n",
              "      <td>43</td>\n",
              "      <td>High School or Below</td>\n",
              "      <td>1000</td>\n",
              "      <td>30</td>\n",
              "      <td>PAIDOFF</td>\n",
              "    </tr>\n",
              "    <tr>\n",
              "      <th>3</th>\n",
              "      <td>1</td>\n",
              "      <td>male</td>\n",
              "      <td>26</td>\n",
              "      <td>college</td>\n",
              "      <td>1000</td>\n",
              "      <td>30</td>\n",
              "      <td>PAIDOFF</td>\n",
              "    </tr>\n",
              "    <tr>\n",
              "      <th>4</th>\n",
              "      <td>1</td>\n",
              "      <td>male</td>\n",
              "      <td>29</td>\n",
              "      <td>Bechalor</td>\n",
              "      <td>800</td>\n",
              "      <td>15</td>\n",
              "      <td>PAIDOFF</td>\n",
              "    </tr>\n",
              "  </tbody>\n",
              "</table>\n",
              "</div>"
            ],
            "text/plain": [
              "   weekend  gender  age             education  principal  terms loan_status\n",
              "0        0  female   50              Bechalor       1000     30     PAIDOFF\n",
              "1        1    male   35       Master or Above        300      7     PAIDOFF\n",
              "2        1  female   43  High School or Below       1000     30     PAIDOFF\n",
              "3        1    male   26               college       1000     30     PAIDOFF\n",
              "4        1    male   29              Bechalor        800     15     PAIDOFF"
            ]
          },
          "metadata": {
            "tags": []
          },
          "execution_count": 248
        }
      ]
    },
    {
      "cell_type": "code",
      "metadata": {
        "colab": {
          "base_uri": "https://localhost:8080/"
        },
        "id": "OVVajkzMAJz-",
        "outputId": "06a7386f-b2ac-42cb-b57e-73e8b89a7dac"
      },
      "source": [
        "# Replacing Categorical Classes with Numbers\n",
        "x_test_raw['gender'] = x_test_raw['gender'].map({'male': 0, 'female': 1})\n",
        "x_test_raw['education'] = x_test_raw['education'].map({'High School or Below': 0, 'college': 1, 'Bechalor': 2, 'Master or Above': 3})\n",
        "x_test_raw['loan_status'] = x_test_raw['loan_status'].map({'PAIDOFF': 0, 'COLLECTION': 1})\n",
        "x_test_raw.head(5)"
      ],
      "execution_count": null,
      "outputs": [
        {
          "output_type": "execute_result",
          "data": {
            "text/html": [
              "<div>\n",
              "<style scoped>\n",
              "    .dataframe tbody tr th:only-of-type {\n",
              "        vertical-align: middle;\n",
              "    }\n",
              "\n",
              "    .dataframe tbody tr th {\n",
              "        vertical-align: top;\n",
              "    }\n",
              "\n",
              "    .dataframe thead th {\n",
              "        text-align: right;\n",
              "    }\n",
              "</style>\n",
              "<table border=\"1\" class=\"dataframe\">\n",
              "  <thead>\n",
              "    <tr style=\"text-align: right;\">\n",
              "      <th></th>\n",
              "      <th>weekend</th>\n",
              "      <th>gender</th>\n",
              "      <th>age</th>\n",
              "      <th>education</th>\n",
              "      <th>principal</th>\n",
              "      <th>terms</th>\n",
              "      <th>loan_status</th>\n",
              "    </tr>\n",
              "  </thead>\n",
              "  <tbody>\n",
              "    <tr>\n",
              "      <th>0</th>\n",
              "      <td>0</td>\n",
              "      <td>1</td>\n",
              "      <td>50</td>\n",
              "      <td>2</td>\n",
              "      <td>1000</td>\n",
              "      <td>30</td>\n",
              "      <td>0</td>\n",
              "    </tr>\n",
              "    <tr>\n",
              "      <th>1</th>\n",
              "      <td>1</td>\n",
              "      <td>0</td>\n",
              "      <td>35</td>\n",
              "      <td>3</td>\n",
              "      <td>300</td>\n",
              "      <td>7</td>\n",
              "      <td>0</td>\n",
              "    </tr>\n",
              "    <tr>\n",
              "      <th>2</th>\n",
              "      <td>1</td>\n",
              "      <td>1</td>\n",
              "      <td>43</td>\n",
              "      <td>0</td>\n",
              "      <td>1000</td>\n",
              "      <td>30</td>\n",
              "      <td>0</td>\n",
              "    </tr>\n",
              "    <tr>\n",
              "      <th>3</th>\n",
              "      <td>1</td>\n",
              "      <td>0</td>\n",
              "      <td>26</td>\n",
              "      <td>1</td>\n",
              "      <td>1000</td>\n",
              "      <td>30</td>\n",
              "      <td>0</td>\n",
              "    </tr>\n",
              "    <tr>\n",
              "      <th>4</th>\n",
              "      <td>1</td>\n",
              "      <td>0</td>\n",
              "      <td>29</td>\n",
              "      <td>2</td>\n",
              "      <td>800</td>\n",
              "      <td>15</td>\n",
              "      <td>0</td>\n",
              "    </tr>\n",
              "  </tbody>\n",
              "</table>\n",
              "</div>"
            ],
            "text/plain": [
              "   weekend  gender  age  education  principal  terms  loan_status\n",
              "0        0       1   50          2       1000     30            0\n",
              "1        1       0   35          3        300      7            0\n",
              "2        1       1   43          0       1000     30            0\n",
              "3        1       0   26          1       1000     30            0\n",
              "4        1       0   29          2        800     15            0"
            ]
          },
          "metadata": {
            "tags": []
          },
          "execution_count": 249
        }
      ]
    },
    {
      "cell_type": "markdown",
      "metadata": {
        "id": "U112y8Uj--qP"
      },
      "source": [
        "> Gender Dummies\n",
        "\n",
        "| Variable         | Value   |\n",
        "|------------------|---------|\n",
        "| male           | 0       |\n",
        "| female           | 1       |"
      ]
    },
    {
      "cell_type": "markdown",
      "metadata": {
        "id": "cBNpU674--qR"
      },
      "source": [
        "> Education Dummies\n",
        "\n",
        "| Variable         | Value   |\n",
        "|------------------|---------|\n",
        "| High School or Below           | 0       |\n",
        "| college           | 1       |\n",
        "| Bechalor          | 2       |\n",
        "| Master or Above          | 3       |"
      ]
    },
    {
      "cell_type": "markdown",
      "metadata": {
        "id": "u1Vf12Ah--qS"
      },
      "source": [
        "> loan_status Dummies\n",
        "\n",
        "| Variable         | Value   |\n",
        "|------------------|---------|\n",
        "| PAIDOFF                  | 0       |\n",
        "| Collection           | 1       |"
      ]
    },
    {
      "cell_type": "code",
      "metadata": {
        "colab": {
          "base_uri": "https://localhost:8080/"
        },
        "id": "UjeiQzuU-cC3",
        "outputId": "c50eceef-54d7-4d46-c509-fd636f0d5e42"
      },
      "source": [
        "y_test = x_test_raw.iloc[:,-1]\n",
        "x_test = x_test_raw.iloc[:,:6]\n",
        "print ('Train set:', x_train.shape,  y_train.shape)\n",
        "print ('Test set:', x_test.shape,  y_test.shape)"
      ],
      "execution_count": null,
      "outputs": [
        {
          "output_type": "stream",
          "text": [
            "Train set: (346, 6) (346,)\n",
            "Test set: (54, 6) (54,)\n"
          ],
          "name": "stdout"
        }
      ]
    },
    {
      "cell_type": "markdown",
      "metadata": {
        "id": "UUueXyZDNa9u"
      },
      "source": [
        "### K Nearest Neighbor(**KNN**)"
      ]
    },
    {
      "cell_type": "markdown",
      "metadata": {
        "id": "SGl7niliNz_g"
      },
      "source": [
        "> Is a supervised classification ML model\n",
        "\n",
        "> Predicting based on the similarities among K-Nearest Neighbors"
      ]
    },
    {
      "cell_type": "code",
      "metadata": {
        "id": "Si_0XAXeNfKr"
      },
      "source": [
        "# importing necessary packages\n",
        "from sklearn.neighbors import KNeighborsClassifier\n",
        "from sklearn import metrics"
      ],
      "execution_count": null,
      "outputs": []
    },
    {
      "cell_type": "code",
      "metadata": {
        "id": "vxc2HKUaOEms",
        "colab": {
          "base_uri": "https://localhost:8080/"
        },
        "outputId": "7956b969-573a-4ba5-9f04-edce02a3d223"
      },
      "source": [
        "# assigning and initializing to-be-used variables\n",
        "Ks = 10\n",
        "mean_acc = np.zeros((Ks-1))\n",
        "std_acc = np.zeros((Ks-1))\n",
        "# Lopping with different no. of K-neighbors\n",
        "for n in range(1,Ks):\n",
        "    #Train Model and Predict\n",
        "    neigh = KNeighborsClassifier(n_neighbors = n).fit(x_train,y_train)\n",
        "    yhat=neigh.predict(x_test)\n",
        "    mean_acc[n-1] = metrics.accuracy_score(y_test, yhat)\n",
        "    std_acc[n-1]=np.std(yhat==y_test)/np.sqrt(yhat.shape[0])\n",
        "\n",
        "# display(mean_acc)\n",
        "# Plotting Accuracy vs. no of Neighbors\n",
        "plt.plot(range(1,Ks),mean_acc,'g')\n",
        "plt.fill_between(range(1,Ks),mean_acc - 1 * std_acc,mean_acc + 1 * std_acc, alpha=0.10)\n",
        "plt.fill_between(range(1,Ks),mean_acc - 3 * std_acc,mean_acc + 3 * std_acc, alpha=0.10,color=\"green\")\n",
        "plt.legend(('Accuracy ', '+/- 1xstd','+/- 3xstd'))\n",
        "plt.ylabel('Accuracy ')\n",
        "plt.xlabel('Number of Neighbors (K)')\n",
        "plt.tight_layout()\n",
        "plt.show()\n",
        "print( \"\\n---> (( The best accuracy was with\", mean_acc.max(), \"with k=\", mean_acc.argmax()+1, \" ))\")"
      ],
      "execution_count": null,
      "outputs": [
        {
          "output_type": "display_data",
          "data": {
            "image/png": "[encoded data removed]",
            "text/plain": [
              "<Figure size 800x550 with 1 Axes>"
            ]
          },
          "metadata": {
            "tags": []
          }
        },
        {
          "output_type": "stream",
          "text": [
            "\n",
            "---> (( The best accuracy was with 0.7407407407407407 with k= 2  ))\n"
          ],
          "name": "stdout"
        }
      ]
    },
    {
      "cell_type": "code",
      "metadata": {
        "id": "HH4pHvQAOExp"
      },
      "source": [
        "# Fitting the Model\n",
        "best_n_neighbors = mean_acc.argmax()+1\n",
        "neigh = KNeighborsClassifier(n_neighbors = best_n_neighbors ).fit(x_train,y_train)\n",
        "\n",
        "# Predicting with the Model\n",
        "y_hat_knn = neigh.predict(x_test)"
      ],
      "execution_count": null,
      "outputs": []
    },
    {
      "cell_type": "markdown",
      "metadata": {
        "id": "iNTnud6VP0ur"
      },
      "source": [
        "### **Decision Tree**"
      ]
    },
    {
      "cell_type": "markdown",
      "metadata": {
        "id": "SBnR5mliP12i"
      },
      "source": [
        " > Is a classification supervised ML model, predicting based on recursive partitioning.\n",
        "\n",
        " > To minimize the nodes' entropies & To maximize the information gained"
      ]
    },
    {
      "cell_type": "code",
      "metadata": {
        "id": "IrO4kAoAP2Kj"
      },
      "source": [
        "# importing necessary packages\n",
        "from sklearn.tree import DecisionTreeClassifier\n",
        "from sklearn import metrics"
      ],
      "execution_count": null,
      "outputs": []
    },
    {
      "cell_type": "code",
      "metadata": {
        "id": "NEAAUO9yQHHK",
        "colab": {
          "base_uri": "https://localhost:8080/"
        },
        "outputId": "dd1ba4c0-ed05-49ef-9ce2-fef640dfe155"
      },
      "source": [
        "# initializing to-be-used list of accuracy\n",
        "accuracy = []\n",
        "\n",
        "# Lopping with different no. of tree splits\n",
        "for depth in range(1,11):\n",
        "  DTree = DecisionTreeClassifier(criterion=\"entropy\", max_depth = depth)\n",
        "  DTree.fit(x_train,y_train)\n",
        "  predTree = DTree.predict(x_test)\n",
        "  # print(\"DecisionTrees's Accuracy: \", metrics.accuracy_score(y_test, predTree))\n",
        "  accuracy.append(metrics.accuracy_score(y_test, predTree))\n",
        "\n",
        "# Plotting Accuracy vs. TreeDepth\n",
        "plt.plot(np.arange(1,11),accuracy);\n",
        "plt.title('TreeDepth vs. Accuracy');\n",
        "plt.xlabel('Depth');\n",
        "plt.ylabel('Prediction Accuracy');\n",
        "# np.argmax(accuracy)+1"
      ],
      "execution_count": null,
      "outputs": [
        {
          "output_type": "display_data",
          "data": {
            "image/png": "[encoded data removed]",
            "text/plain": [
              "<Figure size 800x550 with 1 Axes>"
            ]
          },
          "metadata": {
            "tags": []
          }
        }
      ]
    },
    {
      "cell_type": "code",
      "metadata": {
        "id": "RI8cTJrkQHKd"
      },
      "source": [
        "# Fitting the Model\n",
        "DTree = DecisionTreeClassifier(criterion=\"entropy\", max_depth = np.argmax(accuracy)+1)\n",
        "DTree.fit(x_train,y_train)\n",
        "\n",
        "# Predicting with the Model\n",
        "y_hat_dtree = DTree.predict(x_test)"
      ],
      "execution_count": null,
      "outputs": []
    },
    {
      "cell_type": "markdown",
      "metadata": {
        "id": "JxjbdAKKPFEp"
      },
      "source": [
        "### Support Vector Machine (**SVM**)"
      ]
    },
    {
      "cell_type": "markdown",
      "metadata": {
        "id": "mbC6CrtsPIma"
      },
      "source": [
        "> Is a classification supervised ML model.\n",
        "\n",
        "> Predicting based on kernelling data into a higher dimensional space in a way to be linearly separable according to the categorical classes.\n"
      ]
    },
    {
      "cell_type": "code",
      "metadata": {
        "id": "OP4fAJAxPEmo"
      },
      "source": [
        "# Fitting the Model\n",
        "from sklearn import svm\n",
        "clf = svm.SVC(kernel='sigmoid')\n",
        "clf.fit(x_train, y_train)\n",
        "\n",
        "# Predicting with the Model\n",
        "y_hat_svm = clf.predict(x_test)"
      ],
      "execution_count": null,
      "outputs": []
    },
    {
      "cell_type": "markdown",
      "metadata": {
        "id": "AKdv7JhRPaJB"
      },
      "source": [
        "### **Logistic Regression** (Probabilities of an event)"
      ]
    },
    {
      "cell_type": "markdown",
      "metadata": {
        "id": "U93Z2hgQPaLy"
      },
      "source": [
        "> Logistic Regression model: is a calssification supervised ML model\n",
        "\n",
        "> Used for binary classification (i.e To tell the probability of an event)\n",
        "\n",
        "> Gradient descent is used to find the optimal regressors parameters"
      ]
    },
    {
      "cell_type": "code",
      "metadata": {
        "id": "W6SVBaOqPCl6"
      },
      "source": [
        "# Fitting the Model\n",
        "from sklearn.linear_model import LogisticRegression\n",
        "LR = LogisticRegression(C=0.01, solver='liblinear').fit(x_train,y_train)\n",
        "\n",
        "# P(Y=0|X) & P(Y=1|X)\n",
        "y_hat_probilities = LR.predict_proba(x_test)\n",
        "\n",
        "# Predicting with the Model\n",
        "y_hat_logistic = LR.predict(x_test)"
      ],
      "execution_count": null,
      "outputs": []
    },
    {
      "cell_type": "markdown",
      "metadata": {
        "id": "_sdkqJGmRAWL"
      },
      "source": [
        "### Model **Evaluation** using Test set"
      ]
    },
    {
      "cell_type": "code",
      "metadata": {
        "id": "vKJmsIZaOzaq"
      },
      "source": [
        "# importing necessary packages\n",
        "from sklearn.metrics import jaccard_score\n",
        "from sklearn.metrics import f1_score\n",
        "from sklearn.metrics import log_loss"
      ],
      "execution_count": null,
      "outputs": []
    },
    {
      "cell_type": "code",
      "metadata": {
        "id": "soxiM6jJRU08",
        "colab": {
          "base_uri": "https://localhost:8080/"
        },
        "outputId": "25cadcd8-bb78-4523-993a-dba6532def47"
      },
      "source": [
        "# Calculating Jaccard-Index\n",
        "Jaccard_indices = []\n",
        "KNN_Jaccard = jaccard_score(y_test, y_hat_knn, pos_label=0)\n",
        "Jaccard_indices.append(KNN_Jaccard)\n",
        "DT_Jaccard = jaccard_score(y_test, y_hat_dtree, pos_label=0)\n",
        "Jaccard_indices.append(DT_Jaccard)\n",
        "SVM_Jaccard = jaccard_score(y_test, y_hat_svm, pos_label=0)\n",
        "Jaccard_indices.append(SVM_Jaccard)\n",
        "LR_Jaccard = jaccard_score(y_test, y_hat_logistic, pos_label=1)\n",
        "Jaccard_indices.append(LR_Jaccard)\n",
        "Jaccard_indices"
      ],
      "execution_count": null,
      "outputs": [
        {
          "output_type": "execute_result",
          "data": {
            "text/plain": [
              "[0.7407407407407407,\n",
              " 0.7407407407407407,\n",
              " 0.7407407407407407,\n",
              " 0.25925925925925924]"
            ]
          },
          "metadata": {
            "tags": []
          },
          "execution_count": 332
        }
      ]
    },
    {
      "cell_type": "code",
      "metadata": {
        "id": "3IpMebcJRU35",
        "colab": {
          "base_uri": "https://localhost:8080/"
        },
        "outputId": "349de2ad-ec7e-4f1d-a459-ec2b9c812388"
      },
      "source": [
        "# Calculating F1-Score\n",
        "F1_scores = []\n",
        "KNN_F1 = f1_score(y_test, y_hat_knn, average='weighted')\n",
        "F1_scores.append(KNN_F1)\n",
        "DT_F1 = f1_score(y_test, y_hat_dtree, average='weighted')\n",
        "F1_scores.append(DT_F1)\n",
        "SVM_F1 = f1_score(y_test, y_hat_svm, average='weighted')\n",
        "F1_scores.append(SVM_F1)\n",
        "LR_F1 = f1_score(y_test, y_hat_logistic, average='weighted')\n",
        "F1_scores.append(LR_F1)\n",
        "F1_scores"
      ],
      "execution_count": null,
      "outputs": [
        {
          "output_type": "execute_result",
          "data": {
            "text/plain": [
              "[0.6304176516942475,\n",
              " 0.6304176516942475,\n",
              " 0.6304176516942475,\n",
              " 0.10675381263616558]"
            ]
          },
          "metadata": {
            "tags": []
          },
          "execution_count": 334
        }
      ]
    },
    {
      "cell_type": "code",
      "metadata": {
        "colab": {
          "base_uri": "https://localhost:8080/"
        },
        "id": "8fcGo7TvPVOC",
        "outputId": "c208b27c-1378-4b0f-97f7-7def15271cf3"
      },
      "source": [
        "# Calculating Log_loss\n",
        "Logloss = log_loss(y_test, y_hat_logistic)\n",
        "Logloss"
      ],
      "execution_count": null,
      "outputs": [
        {
          "output_type": "execute_result",
          "data": {
            "text/plain": [
              "25.58487110543769"
            ]
          },
          "metadata": {
            "tags": []
          },
          "execution_count": 340
        }
      ]
    },
    {
      "cell_type": "code",
      "metadata": {
        "id": "MtUd7cLVRU6y",
        "colab": {
          "base_uri": "https://localhost:8080/",
          "height": 171
        },
        "outputId": "822dd5ba-cee8-4992-903c-633aed5e06c0"
      },
      "source": [
        "# Creating Accuracy DataFrame\n",
        "Algorithms = ['KNN', 'DecisionTree', 'SVM', 'LogisticRegression']\n",
        "Accuracy_df = pd.DataFrame( data = {'Algorithm': Algorithms,\n",
        "                                    'JaccardIndex': Jaccard_indices,\n",
        "                                    'F1_Score': F1_scores,\n",
        "                                    'Log_loss':['NA', 'NA', 'NA', Logloss ]})\n",
        "Accuracy_df"
      ],
      "execution_count": null,
      "outputs": [
        {
          "output_type": "execute_result",
          "data": {
            "text/html": [
              "<div>\n",
              "<style scoped>\n",
              "    .dataframe tbody tr th:only-of-type {\n",
              "        vertical-align: middle;\n",
              "    }\n",
              "\n",
              "    .dataframe tbody tr th {\n",
              "        vertical-align: top;\n",
              "    }\n",
              "\n",
              "    .dataframe thead th {\n",
              "        text-align: right;\n",
              "    }\n",
              "</style>\n",
              "<table border=\"1\" class=\"dataframe\">\n",
              "  <thead>\n",
              "    <tr style=\"text-align: right;\">\n",
              "      <th></th>\n",
              "      <th>Algorithm</th>\n",
              "      <th>JaccardIndex</th>\n",
              "      <th>F1_Score</th>\n",
              "      <th>Log_loss</th>\n",
              "    </tr>\n",
              "  </thead>\n",
              "  <tbody>\n",
              "    <tr>\n",
              "      <th>0</th>\n",
              "      <td>KNN</td>\n",
              "      <td>0.740741</td>\n",
              "      <td>0.630418</td>\n",
              "      <td>NA</td>\n",
              "    </tr>\n",
              "    <tr>\n",
              "      <th>1</th>\n",
              "      <td>DecisionTree</td>\n",
              "      <td>0.740741</td>\n",
              "      <td>0.630418</td>\n",
              "      <td>NA</td>\n",
              "    </tr>\n",
              "    <tr>\n",
              "      <th>2</th>\n",
              "      <td>SVM</td>\n",
              "      <td>0.740741</td>\n",
              "      <td>0.630418</td>\n",
              "      <td>NA</td>\n",
              "    </tr>\n",
              "    <tr>\n",
              "      <th>3</th>\n",
              "      <td>LogisticRegression</td>\n",
              "      <td>0.259259</td>\n",
              "      <td>0.106754</td>\n",
              "      <td>25.5849</td>\n",
              "    </tr>\n",
              "  </tbody>\n",
              "</table>\n",
              "</div>"
            ],
            "text/plain": [
              "            Algorithm  JaccardIndex  F1_Score Log_loss\n",
              "0                 KNN      0.740741  0.630418       NA\n",
              "1        DecisionTree      0.740741  0.630418       NA\n",
              "2                 SVM      0.740741  0.630418       NA\n",
              "3  LogisticRegression      0.259259  0.106754  25.5849"
            ]
          },
          "metadata": {
            "tags": []
          },
          "execution_count": 341
        }
      ]
    },
    {
      "cell_type": "markdown",
      "metadata": {
        "id": "Iv_PKx3CMxt0"
      },
      "source": [
        "> Referecing the table above, we notice that KNN, DecisionTree and SVM models have nearly the same scores.\n",
        "\n",
        "> **KNN**, **DecisionTree** and **SVM** predicted around **74%** of the new data properly which sounds it works a little bit well.\n",
        "\n",
        "\n",
        "> So, we will use any of them for predicting new loan-statuses."
      ]
    }
  ]
}